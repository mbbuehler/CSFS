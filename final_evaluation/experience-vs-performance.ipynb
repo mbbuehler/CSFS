{
 "cells": [
  {
   "cell_type": "code",
   "execution_count": 10,
   "metadata": {
    "collapsed": false
   },
   "outputs": [],
   "source": [
    "import pandas as pd\n",
    "import numpy as np\n",
    "import plotly.graph_objs as go\n",
    "import plotly\n",
    "import cufflinks\n",
    "from scipy.stats import kendalltau "
   ]
  },
  {
   "cell_type": "code",
   "execution_count": 11,
   "metadata": {
    "collapsed": false
   },
   "outputs": [
    {
     "data": {
      "text/html": [
       "<div>\n",
       "<table border=\"1\" class=\"dataframe\">\n",
       "  <thead>\n",
       "    <tr style=\"text-align: right;\">\n",
       "      <th></th>\n",
       "      <th>Education</th>\n",
       "      <th>Experience Days</th>\n",
       "      <th>Gender</th>\n",
       "      <th>How difficult did you find the task?</th>\n",
       "      <th>aucs</th>\n",
       "      <th>dataset_name</th>\n",
       "    </tr>\n",
       "  </thead>\n",
       "  <tbody>\n",
       "    <tr>\n",
       "      <th>0</th>\n",
       "      <td>MSc</td>\n",
       "      <td>901</td>\n",
       "      <td>Male</td>\n",
       "      <td>3</td>\n",
       "      <td>{'7': 0.8047566849000001, '6': 0.7956954295, '...</td>\n",
       "      <td>olympia</td>\n",
       "    </tr>\n",
       "    <tr>\n",
       "      <th>1</th>\n",
       "      <td>MSc</td>\n",
       "      <td>901</td>\n",
       "      <td>Male</td>\n",
       "      <td>3</td>\n",
       "      <td>{'7': 0.6709983735, '6': 0.6209819734, '4': 0....</td>\n",
       "      <td>student</td>\n",
       "    </tr>\n",
       "    <tr>\n",
       "      <th>10</th>\n",
       "      <td>BSc</td>\n",
       "      <td>2201</td>\n",
       "      <td>Male</td>\n",
       "      <td>3</td>\n",
       "      <td>{'7': 0.8032038726, '6': 0.7612793914, '4': 0....</td>\n",
       "      <td>income</td>\n",
       "    </tr>\n",
       "    <tr>\n",
       "      <th>11</th>\n",
       "      <td>BSc</td>\n",
       "      <td>2201</td>\n",
       "      <td>Male</td>\n",
       "      <td>3</td>\n",
       "      <td>{'7': 0.8065963736, '6': 0.8059221788, '4': 0....</td>\n",
       "      <td>olympia</td>\n",
       "    </tr>\n",
       "    <tr>\n",
       "      <th>12</th>\n",
       "      <td>MSc</td>\n",
       "      <td>1476</td>\n",
       "      <td>Male</td>\n",
       "      <td>2</td>\n",
       "      <td>{'7': 0.7737598173, '6': 0.7678245632, '4': 0....</td>\n",
       "      <td>income</td>\n",
       "    </tr>\n",
       "  </tbody>\n",
       "</table>\n",
       "</div>"
      ],
      "text/plain": [
       "   Education  Experience Days Gender  How difficult did you find the task?  \\\n",
       "0        MSc              901   Male                                     3   \n",
       "1        MSc              901   Male                                     3   \n",
       "10       BSc             2201   Male                                     3   \n",
       "11       BSc             2201   Male                                     3   \n",
       "12       MSc             1476   Male                                     2   \n",
       "\n",
       "                                                 aucs dataset_name  \n",
       "0   {'7': 0.8047566849000001, '6': 0.7956954295, '...      olympia  \n",
       "1   {'7': 0.6709983735, '6': 0.6209819734, '4': 0....      student  \n",
       "10  {'7': 0.8032038726, '6': 0.7612793914, '4': 0....       income  \n",
       "11  {'7': 0.8065963736, '6': 0.8059221788, '4': 0....      olympia  \n",
       "12  {'7': 0.7737598173, '6': 0.7678245632, '4': 0....       income  "
      ]
     },
     "execution_count": 11,
     "metadata": {},
     "output_type": "execute_result"
    }
   ],
   "source": [
    "df = pd.read_json('private_data-scientists_performance.json')\n",
    "df.head()"
   ]
  },
  {
   "cell_type": "code",
   "execution_count": 12,
   "metadata": {
    "collapsed": false
   },
   "outputs": [],
   "source": [
    "df['aucs'] = df['aucs'].apply(lambda v: v['9'])"
   ]
  },
  {
   "cell_type": "code",
   "execution_count": 13,
   "metadata": {
    "collapsed": false
   },
   "outputs": [
    {
     "data": {
      "text/html": [
       "<div>\n",
       "<table border=\"1\" class=\"dataframe\">\n",
       "  <thead>\n",
       "    <tr style=\"text-align: right;\">\n",
       "      <th></th>\n",
       "      <th>Education</th>\n",
       "      <th>Experience Days</th>\n",
       "      <th>Gender</th>\n",
       "      <th>How difficult did you find the task?</th>\n",
       "      <th>aucs</th>\n",
       "      <th>dataset_name</th>\n",
       "    </tr>\n",
       "  </thead>\n",
       "  <tbody>\n",
       "    <tr>\n",
       "      <th>0</th>\n",
       "      <td>MSc</td>\n",
       "      <td>901</td>\n",
       "      <td>Male</td>\n",
       "      <td>3</td>\n",
       "      <td>0.823043</td>\n",
       "      <td>olympia</td>\n",
       "    </tr>\n",
       "    <tr>\n",
       "      <th>1</th>\n",
       "      <td>MSc</td>\n",
       "      <td>901</td>\n",
       "      <td>Male</td>\n",
       "      <td>3</td>\n",
       "      <td>0.676620</td>\n",
       "      <td>student</td>\n",
       "    </tr>\n",
       "    <tr>\n",
       "      <th>10</th>\n",
       "      <td>BSc</td>\n",
       "      <td>2201</td>\n",
       "      <td>Male</td>\n",
       "      <td>3</td>\n",
       "      <td>0.824063</td>\n",
       "      <td>income</td>\n",
       "    </tr>\n",
       "    <tr>\n",
       "      <th>11</th>\n",
       "      <td>BSc</td>\n",
       "      <td>2201</td>\n",
       "      <td>Male</td>\n",
       "      <td>3</td>\n",
       "      <td>0.806421</td>\n",
       "      <td>olympia</td>\n",
       "    </tr>\n",
       "    <tr>\n",
       "      <th>12</th>\n",
       "      <td>MSc</td>\n",
       "      <td>1476</td>\n",
       "      <td>Male</td>\n",
       "      <td>2</td>\n",
       "      <td>0.828008</td>\n",
       "      <td>income</td>\n",
       "    </tr>\n",
       "  </tbody>\n",
       "</table>\n",
       "</div>"
      ],
      "text/plain": [
       "   Education  Experience Days Gender  How difficult did you find the task?  \\\n",
       "0        MSc              901   Male                                     3   \n",
       "1        MSc              901   Male                                     3   \n",
       "10       BSc             2201   Male                                     3   \n",
       "11       BSc             2201   Male                                     3   \n",
       "12       MSc             1476   Male                                     2   \n",
       "\n",
       "        aucs dataset_name  \n",
       "0   0.823043      olympia  \n",
       "1   0.676620      student  \n",
       "10  0.824063       income  \n",
       "11  0.806421      olympia  \n",
       "12  0.828008       income  "
      ]
     },
     "execution_count": 13,
     "metadata": {},
     "output_type": "execute_result"
    }
   ],
   "source": [
    "df.head()"
   ]
  },
  {
   "cell_type": "code",
   "execution_count": 14,
   "metadata": {
    "collapsed": false
   },
   "outputs": [
    {
     "data": {
      "text/html": [
       "<div id=\"764227c9-7863-43f0-88f7-4bd1fa283a78\" style=\"height: 525px; width: 100%;\" class=\"plotly-graph-div\"></div><script type=\"text/javascript\">require([\"plotly\"], function(Plotly) { window.PLOTLYENV=window.PLOTLYENV || {};window.PLOTLYENV.BASE_URL=\"https://plot.ly\";Plotly.newPlot(\"764227c9-7863-43f0-88f7-4bd1fa283a78\", [{\"marker\": {\"line\": {\"color\": \"#D9D9D9\", \"width\": 1.3}, \"color\": \"rgba(226, 74, 51, 1.0)\"}, \"type\": \"histogram\", \"name\": \"Experience Days\", \"histfunc\": \"count\", \"x\": [901, 901, 2201, 2201, 1476, 1476, 1476, 1073, 1073, 1073, 507, 507, 901, 507, 334, 334, 334, 2576, 2576, 2576, 746, 746, 746, 2211, 4768, 4768, 4768, 2211, 2211, 2211, 1204, 1204, 1204, 4037, 2211, 4037, 4037, 2420, 2420, 2420, 991, 991, 991, 507, 507, 2211, 507, 385, 385, 385, 1525, 1525, 1525, 568, 568, 568, 1656, 1656, 1656, 2201], \"histnorm\": \"\", \"opacity\": 0.8, \"orientation\": \"v\"}], {\"yaxis1\": {\"gridcolor\": \"#F6F6F6\", \"showgrid\": true, \"titlefont\": {\"color\": \"#666666\"}, \"zerolinecolor\": \"#F6F6F6\", \"tickfont\": {\"color\": \"#666666\"}, \"title\": \"Count\"}, \"titlefont\": {\"color\": \"#151516\"}, \"legend\": {\"font\": {\"color\": \"#666666\"}, \"bgcolor\": \"#FFFFFF\"}, \"xaxis1\": {\"gridcolor\": \"#F6F6F6\", \"showgrid\": true, \"titlefont\": {\"color\": \"#666666\"}, \"zerolinecolor\": \"#F6F6F6\", \"tickfont\": {\"color\": \"#666666\"}, \"title\": \"Days\"}, \"title\": \"Experience of Data Scientists [in days]\", \"plot_bgcolor\": \"#E5E5E5\", \"paper_bgcolor\": \"#FFFFFF\", \"barmode\": \"overlay\"}, {\"showLink\": true, \"linkText\": \"Export to plot.ly\"})});</script>"
      ],
      "text/plain": [
       "<IPython.core.display.HTML object>"
      ]
     },
     "metadata": {},
     "output_type": "display_data"
    }
   ],
   "source": [
    "df[['Experience Days']].iplot(kind='hist', title='Experience of Data Scientists [in days]', xTitle=\"Days\", yTitle=\"Count\")"
   ]
  },
  {
   "cell_type": "code",
   "execution_count": 16,
   "metadata": {
    "collapsed": false
   },
   "outputs": [
    {
     "data": {
      "text/html": [
       "<div id=\"fb179518-4280-49b4-a8df-dcb0cc45e859\" style=\"height: 525px; width: 100%;\" class=\"plotly-graph-div\"></div><script type=\"text/javascript\">require([\"plotly\"], function(Plotly) { window.PLOTLYENV=window.PLOTLYENV || {};window.PLOTLYENV.BASE_URL=\"https://plot.ly\";Plotly.newPlot(\"fb179518-4280-49b4-a8df-dcb0cc45e859\", [{\"marker\": {\"symbol\": \"dot\", \"size\": 12}, \"line\": {\"dash\": \"solid\", \"color\": \"rgba(226, 74, 51, 1.0)\", \"width\": 1.3}, \"type\": \"scatter\", \"name\": \"aucs\", \"x\": [901, 901, 2201, 2201, 1476, 1476, 1476, 1073, 1073, 1073, 507, 507, 901, 507, 334, 334, 334, 2576, 2576, 2576, 746, 746, 746, 2211, 4768, 4768, 4768, 2211, 2211, 2211, 1204, 1204, 1204, 4037, 2211, 4037, 4037, 2420, 2420, 2420, 991, 991, 991, 507, 507, 2211, 507, 385, 385, 385, 1525, 1525, 1525, 568, 568, 568, 1656, 1656, 1656, 2201], \"y\": [0.8230428567, 0.6766204482, 0.8240632455, 0.8064208158, 0.8280083201, 0.8164897278000001, 0.6215777537, 0.8308443986, 0.8225344859, 0.6654797596, 0.8313213147, 0.7359314413, 0.8076419501000001, 0.6743739496000001, 0.6739714015, 0.7329199877, 0.8402889425000001, 0.6535777537, 0.8546171504000001, 0.8027758594000001, 0.8102909758, 0.8280083201, 0.631946101, 0.7662006295, 0.6535777537, 0.8350773646, 0.8224004065, 0.8182767874, 0.8019320165, 0.6250463088, 0.6743739496000001, 0.8371197993, 0.8185215603, 0.8021241843, 0.8392584905, 0.7150327099, 0.826368972, 0.8277078057, 0.654743833, 0.8106797456, 0.6860323936, 0.8296944551000001, 0.7976560014, 0.7662148009, 0.5956474654, 0.6814941719000001, 0.8287285291, 0.641657676, 0.8125595916, 0.8351125727, 0.8313213147, 0.6551041836, 0.787142565, 0.65641687, 0.8278168299, 0.8219899421, 0.8237862921, 0.8384702189000001, 0.6898878648, 0.7089489021000001], \"text\": \"\", \"mode\": \"markers\"}], {\"yaxis1\": {\"gridcolor\": \"#F6F6F6\", \"showgrid\": true, \"titlefont\": {\"color\": \"#666666\"}, \"zerolinecolor\": \"#F6F6F6\", \"tickfont\": {\"color\": \"#666666\"}, \"title\": \"AUC\"}, \"titlefont\": {\"color\": \"#151516\"}, \"legend\": {\"font\": {\"color\": \"#666666\"}, \"bgcolor\": \"#FFFFFF\"}, \"xaxis1\": {\"gridcolor\": \"#F6F6F6\", \"showgrid\": true, \"titlefont\": {\"color\": \"#666666\"}, \"zerolinecolor\": \"#F6F6F6\", \"tickfont\": {\"color\": \"#666666\"}, \"title\": \"Experience in Days\"}, \"title\": \"Experience vs. AUC (9 features)\", \"plot_bgcolor\": \"#E5E5E5\", \"paper_bgcolor\": \"#FFFFFF\"}, {\"showLink\": true, \"linkText\": \"Export to plot.ly\"})});</script>"
      ],
      "text/plain": [
       "<IPython.core.display.HTML object>"
      ]
     },
     "metadata": {},
     "output_type": "display_data"
    },
    {
     "name": "stdout",
     "output_type": "stream",
     "text": [
      "KendalltauResult(correlation=0.018512047217980061, pvalue=0.83446287703978783)\n"
     ]
    }
   ],
   "source": [
    "df.iplot(kind='scatter', mode='markers', x='Experience Days', y='aucs', xTitle='Experience in Days', yTitle='AUC', title='Experience vs. AUC (9 features)')\n",
    "print(kendalltau(df['Experience Days'], df['aucs']))"
   ]
  },
  {
   "cell_type": "code",
   "execution_count": 17,
   "metadata": {
    "collapsed": false
   },
   "outputs": [
    {
     "data": {
      "text/html": [
       "<div id=\"3ea9cb09-9a73-46a8-913c-5da6d5e4de37\" style=\"height: 525px; width: 100%;\" class=\"plotly-graph-div\"></div><script type=\"text/javascript\">require([\"plotly\"], function(Plotly) { window.PLOTLYENV=window.PLOTLYENV || {};window.PLOTLYENV.BASE_URL=\"https://plot.ly\";Plotly.newPlot(\"3ea9cb09-9a73-46a8-913c-5da6d5e4de37\", [{\"marker\": {\"symbol\": \"dot\", \"size\": 12}, \"line\": {\"dash\": \"solid\", \"color\": \"rgba(226, 74, 51, 1.0)\", \"width\": 1.3}, \"type\": \"scatter\", \"name\": \"aucs\", \"x\": [\"MSc\", \"MSc\", \"BSc\", \"BSc\", \"MSc\", \"MSc\", \"MSc\", \"BSc\", \"BSc\", \"BSc\", \"BSc\", \"BSc\", \"MSc\", \"BSc\", \"BSc\", \"BSc\", \"BSc\", \"MSc\", \"MSc\", \"MSc\", \"BSc\", \"BSc\", \"BSc\", \"BSc\", \"MSc\", \"MSc\", \"MSc\", \"PhD\", \"PhD\", \"PhD\", \"MSc\", \"MSc\", \"MSc\", \"MSc\", \"BSc\", \"MSc\", \"MSc\", \"BSc\", \"BSc\", \"BSc\", \"MSc\", \"MSc\", \"MSc\", \"MSc\", \"MSc\", \"BSc\", \"MSc\", \"BSc\", \"BSc\", \"BSc\", \"MSc\", \"MSc\", \"MSc\", \"BSc\", \"BSc\", \"BSc\", \"MSc\", \"MSc\", \"MSc\", \"BSc\"], \"y\": [0.8230428567, 0.6766204482, 0.8240632455, 0.8064208158, 0.8280083201, 0.8164897278000001, 0.6215777537, 0.8308443986, 0.8225344859, 0.6654797596, 0.8313213147, 0.7359314413, 0.8076419501000001, 0.6743739496000001, 0.6739714015, 0.7329199877, 0.8402889425000001, 0.6535777537, 0.8546171504000001, 0.8027758594000001, 0.8102909758, 0.8280083201, 0.631946101, 0.7662006295, 0.6535777537, 0.8350773646, 0.8224004065, 0.8182767874, 0.8019320165, 0.6250463088, 0.6743739496000001, 0.8371197993, 0.8185215603, 0.8021241843, 0.8392584905, 0.7150327099, 0.826368972, 0.8277078057, 0.654743833, 0.8106797456, 0.6860323936, 0.8296944551000001, 0.7976560014, 0.7662148009, 0.5956474654, 0.6814941719000001, 0.8287285291, 0.641657676, 0.8125595916, 0.8351125727, 0.8313213147, 0.6551041836, 0.787142565, 0.65641687, 0.8278168299, 0.8219899421, 0.8237862921, 0.8384702189000001, 0.6898878648, 0.7089489021000001], \"text\": \"\", \"mode\": \"markers\"}], {\"yaxis1\": {\"gridcolor\": \"#F6F6F6\", \"showgrid\": true, \"titlefont\": {\"color\": \"#666666\"}, \"zerolinecolor\": \"#F6F6F6\", \"tickfont\": {\"color\": \"#666666\"}, \"title\": \"AUC\"}, \"titlefont\": {\"color\": \"#151516\"}, \"legend\": {\"font\": {\"color\": \"#666666\"}, \"bgcolor\": \"#FFFFFF\"}, \"xaxis1\": {\"gridcolor\": \"#F6F6F6\", \"showgrid\": true, \"titlefont\": {\"color\": \"#666666\"}, \"zerolinecolor\": \"#F6F6F6\", \"tickfont\": {\"color\": \"#666666\"}, \"title\": \"Education\"}, \"title\": \"Education vs. AUC (9 features)\", \"plot_bgcolor\": \"#E5E5E5\", \"paper_bgcolor\": \"#FFFFFF\"}, {\"showLink\": true, \"linkText\": \"Export to plot.ly\"})});</script>"
      ],
      "text/plain": [
       "<IPython.core.display.HTML object>"
      ]
     },
     "metadata": {},
     "output_type": "display_data"
    },
    {
     "name": "stdout",
     "output_type": "stream",
     "text": [
      "KendalltauResult(correlation=-0.027350964602433577, pvalue=0.75750167299634041)\n"
     ]
    },
    {
     "name": "stderr",
     "output_type": "stream",
     "text": [
      "/usr/local/lib/python3.4/dist-packages/scipy/stats/stats.py:249: RuntimeWarning:\n",
      "\n",
      "The input array could not be properly checked for nan values. nan values will be ignored.\n",
      "\n"
     ]
    }
   ],
   "source": [
    "df.iplot(kind='scatter', mode='markers', x='Education', y='aucs', xTitle='Education', yTitle='AUC', title='Education vs. AUC (9 features)')\n",
    "print(kendalltau(df['Education'], df['aucs']))"
   ]
  },
  {
   "cell_type": "code",
   "execution_count": 18,
   "metadata": {
    "collapsed": false
   },
   "outputs": [
    {
     "data": {
      "text/html": [
       "<div id=\"8c5d964c-2830-4a75-ab20-45884e5a7c27\" style=\"height: 525px; width: 100%;\" class=\"plotly-graph-div\"></div><script type=\"text/javascript\">require([\"plotly\"], function(Plotly) { window.PLOTLYENV=window.PLOTLYENV || {};window.PLOTLYENV.BASE_URL=\"https://plot.ly\";Plotly.newPlot(\"8c5d964c-2830-4a75-ab20-45884e5a7c27\", [{\"marker\": {\"symbol\": \"dot\", \"size\": 12}, \"line\": {\"dash\": \"solid\", \"color\": \"rgba(226, 74, 51, 1.0)\", \"width\": 1.3}, \"type\": \"scatter\", \"name\": \"aucs\", \"x\": [3, 3, 3, 3, 2, 2, 2, 4, 4, 4, 3, 3, 3, 3, 2, 2, 2, 3, 3, 3, 2, 2, 2, 3, 3, 3, 3, 1, 1, 1, 2, 2, 2, 3, 3, 3, 3, 1, 1, 1, 3, 3, 3, 3, 3, 3, 3, 3, 3, 3, 4, 4, 4, 2, 2, 2, 3, 3, 3, 3], \"y\": [0.8230428567, 0.6766204482, 0.8240632455, 0.8064208158, 0.8280083201, 0.8164897278000001, 0.6215777537, 0.8308443986, 0.8225344859, 0.6654797596, 0.8313213147, 0.7359314413, 0.8076419501000001, 0.6743739496000001, 0.6739714015, 0.7329199877, 0.8402889425000001, 0.6535777537, 0.8546171504000001, 0.8027758594000001, 0.8102909758, 0.8280083201, 0.631946101, 0.7662006295, 0.6535777537, 0.8350773646, 0.8224004065, 0.8182767874, 0.8019320165, 0.6250463088, 0.6743739496000001, 0.8371197993, 0.8185215603, 0.8021241843, 0.8392584905, 0.7150327099, 0.826368972, 0.8277078057, 0.654743833, 0.8106797456, 0.6860323936, 0.8296944551000001, 0.7976560014, 0.7662148009, 0.5956474654, 0.6814941719000001, 0.8287285291, 0.641657676, 0.8125595916, 0.8351125727, 0.8313213147, 0.6551041836, 0.787142565, 0.65641687, 0.8278168299, 0.8219899421, 0.8237862921, 0.8384702189000001, 0.6898878648, 0.7089489021000001], \"text\": \"\", \"mode\": \"markers\"}], {\"yaxis1\": {\"gridcolor\": \"#F6F6F6\", \"showgrid\": true, \"titlefont\": {\"color\": \"#666666\"}, \"zerolinecolor\": \"#F6F6F6\", \"tickfont\": {\"color\": \"#666666\"}, \"title\": \"AUC\"}, \"titlefont\": {\"color\": \"#151516\"}, \"legend\": {\"font\": {\"color\": \"#666666\"}, \"bgcolor\": \"#FFFFFF\"}, \"xaxis1\": {\"gridcolor\": \"#F6F6F6\", \"showgrid\": true, \"titlefont\": {\"color\": \"#666666\"}, \"zerolinecolor\": \"#F6F6F6\", \"tickfont\": {\"color\": \"#666666\"}, \"title\": \"Difficulty\"}, \"title\": \"Perceived difficulty vs. AUC (9 features)\", \"plot_bgcolor\": \"#E5E5E5\", \"paper_bgcolor\": \"#FFFFFF\"}, {\"showLink\": true, \"linkText\": \"Export to plot.ly\"})});</script>"
      ],
      "text/plain": [
       "<IPython.core.display.HTML object>"
      ]
     },
     "metadata": {},
     "output_type": "display_data"
    },
    {
     "name": "stdout",
     "output_type": "stream",
     "text": [
      "KendalltauResult(correlation=0.053640411804909735, pvalue=0.54481827641311165)\n"
     ]
    }
   ],
   "source": [
    "df.iplot(kind='scatter', mode='markers', x='How difficult did you find the task?', y='aucs', xTitle='Difficulty', yTitle='AUC', title='Perceived difficulty vs. AUC (9 features)')\n",
    "print(kendalltau(df['How difficult did you find the task?'], df['aucs']))"
   ]
  },
  {
   "cell_type": "code",
   "execution_count": 19,
   "metadata": {
    "collapsed": false
   },
   "outputs": [
    {
     "data": {
      "text/html": [
       "<div id=\"7d2ed7b2-17b4-41a3-a6e0-9897cc3408d3\" style=\"height: 525px; width: 100%;\" class=\"plotly-graph-div\"></div><script type=\"text/javascript\">require([\"plotly\"], function(Plotly) { window.PLOTLYENV=window.PLOTLYENV || {};window.PLOTLYENV.BASE_URL=\"https://plot.ly\";Plotly.newPlot(\"7d2ed7b2-17b4-41a3-a6e0-9897cc3408d3\", [{\"marker\": {\"symbol\": \"dot\", \"size\": 12}, \"line\": {\"dash\": \"solid\", \"color\": \"rgba(226, 74, 51, 1.0)\", \"width\": 1.3}, \"type\": \"scatter\", \"name\": \"aucs\", \"x\": [\"Male\", \"Male\", \"Male\", \"Male\", \"Male\", \"Male\", \"Male\", \"Male\", \"Male\", \"Male\", \"Male\", \"Male\", \"Male\", \"Male\", \"Female\", \"Female\", \"Female\", \"Male\", \"Male\", \"Male\", \"Male\", \"Male\", \"Male\", \"Male\", \"Male\", \"Male\", \"Male\", \"Female\", \"Female\", \"Female\", \"Male\", \"Male\", \"Male\", \"Male\", \"Male\", \"Male\", \"Male\", \"Male\", \"Male\", \"Male\", \"Male\", \"Male\", \"Male\", \"Male\", \"Male\", \"Male\", \"Male\", \"Male\", \"Male\", \"Male\", \"Male\", \"Male\", \"Male\", \"Male\", \"Male\", \"Male\", \"Male\", \"Male\", \"Male\", \"Male\"], \"y\": [0.8230428567, 0.6766204482, 0.8240632455, 0.8064208158, 0.8280083201, 0.8164897278000001, 0.6215777537, 0.8308443986, 0.8225344859, 0.6654797596, 0.8313213147, 0.7359314413, 0.8076419501000001, 0.6743739496000001, 0.6739714015, 0.7329199877, 0.8402889425000001, 0.6535777537, 0.8546171504000001, 0.8027758594000001, 0.8102909758, 0.8280083201, 0.631946101, 0.7662006295, 0.6535777537, 0.8350773646, 0.8224004065, 0.8182767874, 0.8019320165, 0.6250463088, 0.6743739496000001, 0.8371197993, 0.8185215603, 0.8021241843, 0.8392584905, 0.7150327099, 0.826368972, 0.8277078057, 0.654743833, 0.8106797456, 0.6860323936, 0.8296944551000001, 0.7976560014, 0.7662148009, 0.5956474654, 0.6814941719000001, 0.8287285291, 0.641657676, 0.8125595916, 0.8351125727, 0.8313213147, 0.6551041836, 0.787142565, 0.65641687, 0.8278168299, 0.8219899421, 0.8237862921, 0.8384702189000001, 0.6898878648, 0.7089489021000001], \"text\": \"\", \"mode\": \"markers\"}], {\"yaxis1\": {\"gridcolor\": \"#F6F6F6\", \"showgrid\": true, \"titlefont\": {\"color\": \"#666666\"}, \"zerolinecolor\": \"#F6F6F6\", \"tickfont\": {\"color\": \"#666666\"}, \"title\": \"AUC\"}, \"titlefont\": {\"color\": \"#151516\"}, \"legend\": {\"font\": {\"color\": \"#666666\"}, \"bgcolor\": \"#FFFFFF\"}, \"xaxis1\": {\"gridcolor\": \"#F6F6F6\", \"showgrid\": true, \"titlefont\": {\"color\": \"#666666\"}, \"zerolinecolor\": \"#F6F6F6\", \"tickfont\": {\"color\": \"#666666\"}, \"title\": \"Gender\"}, \"title\": \"Gender vs. AUC (9 features)\", \"plot_bgcolor\": \"#E5E5E5\", \"paper_bgcolor\": \"#FFFFFF\"}, {\"showLink\": true, \"linkText\": \"Export to plot.ly\"})});</script>"
      ],
      "text/plain": [
       "<IPython.core.display.HTML object>"
      ]
     },
     "metadata": {},
     "output_type": "display_data"
    },
    {
     "name": "stdout",
     "output_type": "stream",
     "text": [
      "KendalltauResult(correlation=0.066100105037909571, pvalue=0.45554684189572681)\n"
     ]
    },
    {
     "name": "stderr",
     "output_type": "stream",
     "text": [
      "/usr/local/lib/python3.4/dist-packages/scipy/stats/stats.py:249: RuntimeWarning:\n",
      "\n",
      "The input array could not be properly checked for nan values. nan values will be ignored.\n",
      "\n"
     ]
    }
   ],
   "source": [
    "df.iplot(kind='scatter', mode='markers', x='Gender', y='aucs', xTitle='Gender', yTitle='AUC', title='Gender vs. AUC (9 features)')\n",
    "print(kendalltau(df['Gender'], df['aucs']))"
   ]
  }
 ],
 "metadata": {
  "kernelspec": {
   "display_name": "Python 3",
   "language": "python",
   "name": "python3"
  },
  "language_info": {
   "codemirror_mode": {
    "name": "ipython",
    "version": 3
   },
   "file_extension": ".py",
   "mimetype": "text/x-python",
   "name": "python",
   "nbconvert_exporter": "python",
   "pygments_lexer": "ipython3",
   "version": "3.4.3"
  }
 },
 "nbformat": 4,
 "nbformat_minor": 1
}
