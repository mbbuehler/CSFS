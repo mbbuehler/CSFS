{
 "cells": [
  {
   "cell_type": "code",
   "execution_count": 116,
   "metadata": {
    "collapsed": true
   },
   "outputs": [],
   "source": [
    "import pickle \n",
    "import numpy as np\n",
    "import matplotlib.pyplot as plt\n",
    "plt.hold(False)"
   ]
  },
  {
   "cell_type": "code",
   "execution_count": 117,
   "metadata": {
    "collapsed": false
   },
   "outputs": [
    {
     "data": {
      "text/plain": [
       "[0.54462840236686394, 0.60944792899408284, 0.50374852071005916]"
      ]
     },
     "execution_count": 117,
     "metadata": {},
     "output_type": "execute_result"
    }
   ],
   "source": [
    "data = pickle.load(open('pickle-dumps/madelon/16features_100samples_default-std.pickle','br'))\n",
    "data['best_noisy'][:3]"
   ]
  },
  {
   "cell_type": "code",
   "execution_count": 118,
   "metadata": {
    "collapsed": true
   },
   "outputs": [],
   "source": [
    "N_features = [2,3,5,7,11,13,16]\n",
    "folder = 'pickle-dumps/madelon/'\n",
    "stds = ['1e-07', '0.050', '0.100', '0.200', '0.300', '0.500']"
   ]
  },
  {
   "cell_type": "code",
   "execution_count": 119,
   "metadata": {
    "collapsed": true
   },
   "outputs": [],
   "source": [
    "def get_filename(n_feat, std):\n",
    "    return '{}features_100samples_{}std.pickle'.format(n_feat, std)"
   ]
  },
  {
   "cell_type": "code",
   "execution_count": 123,
   "metadata": {
    "collapsed": false
   },
   "outputs": [
    {
     "name": "stdout",
     "output_type": "stream",
     "text": [
      "[0.61727100591715978, 0.60768592899408291, 0.51687277514792895, 0.50735456804733736]\n",
      "[0.63079408284023686, 0.60839536686390527, 0.52904518343195273, 0.50598524852071014]\n",
      "[0.62601005917159747, 0.62058965680473366, 0.54282332544378697, 0.51576713609467451]\n",
      "[0.62961479289940847, 0.62640418934911246, 0.54613322485207094, 0.51868524852071007]\n",
      "[0.64213668639053256, 0.62771852662721894, 0.56256278106508872, 0.52689769822485211]\n",
      "[0.64194378698224852, 0.63075407100591718, 0.56660207692307696, 0.53107894082840224]\n",
      "[0.64362958579881646, 0.63139887573964493, 0.56399527810650885, 0.53477915976331358]\n"
     ]
    }
   ],
   "source": [
    "means = dict()\n",
    "l = list()\n",
    "for n_feat in N_features:\n",
    "    for std in stds:\n",
    "        data = pickle.load(open(folder+get_filename(n_feat, std),'rb'))\n",
    "        means[std] = np.mean(data['best_noisy'])\n",
    "    plt.plot([0, 0.05, 0.1, 0.2, 0.3, 0.5],[means[std] for std in stds], 'o')\n",
    "    plt.hold(True)\n",
    "    print([means[std] for std in stds[:4]])\n",
    "    l.append(n_feat)\n",
    "\n"
   ]
  },
  {
   "cell_type": "code",
   "execution_count": 124,
   "metadata": {
    "collapsed": false
   },
   "outputs": [
    {
     "data": {
      "image/png": "[encoded data removed]",
      "text/plain": [
       "<matplotlib.figure.Figure at 0x7f304b9a62e8>"
      ]
     },
     "metadata": {},
     "output_type": "display_data"
    }
   ],
   "source": [
    "plt.title('Auc scores for different #features and std')\n",
    "plt.legend(l, loc=4)\n",
    "plt.xlim([-.01, .7])\n",
    "plt.xlabel('std')\n",
    "plt.ylabel('mean auc')\n",
    "fig1 = plt.gcf()\n",
    "plt.show()\n",
    "fig1.savefig('plots/madelon/auc_std.png', dpi=100)"
   ]
  }
 ],
 "metadata": {
  "kernelspec": {
   "display_name": "Python 3",
   "language": "python",
   "name": "python3"
  },
  "language_info": {
   "codemirror_mode": {
    "name": "ipython",
    "version": 3
   },
   "file_extension": ".py",
   "mimetype": "text/x-python",
   "name": "python",
   "nbconvert_exporter": "python",
   "pygments_lexer": "ipython3",
   "version": "3.4.3"
  }
 },
 "nbformat": 4,
 "nbformat_minor": 1
}
