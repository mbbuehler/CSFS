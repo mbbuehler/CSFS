{
 "cells": [
  {
   "cell_type": "code",
   "execution_count": 1,
   "metadata": {
    "collapsed": true
   },
   "outputs": [],
   "source": [
    "import pandas as pd\n",
    "import numpy as np\n",
    "from sklearn.cross_validation import train_test_split, StratifiedKFold\n",
    "from sklearn.metrics import roc_curve, auc, roc_auc_score, precision_recall_fscore_support\n",
    "from sklearn.naive_bayes import GaussianNB\n",
    "from tabulate import tabulate\n"
   ]
  },
  {
   "cell_type": "code",
   "execution_count": 2,
   "metadata": {
    "collapsed": false
   },
   "outputs": [
    {
     "data": {
      "text/html": [
       "<div>\n",
       "<table border=\"1\" class=\"dataframe\">\n",
       "  <thead>\n",
       "    <tr style=\"text-align: right;\">\n",
       "      <th></th>\n",
       "      <th>school</th>\n",
       "      <th>sex</th>\n",
       "      <th>address</th>\n",
       "      <th>famsize</th>\n",
       "      <th>Pstatus</th>\n",
       "      <th>schoolsup</th>\n",
       "      <th>famsup</th>\n",
       "      <th>paid</th>\n",
       "      <th>activities</th>\n",
       "      <th>nursery</th>\n",
       "      <th>...</th>\n",
       "      <th>Dalc_(3.667, 5]</th>\n",
       "      <th>Walc_(0.996, 2.333]</th>\n",
       "      <th>Walc_(2.333, 3.667]</th>\n",
       "      <th>Walc_(3.667, 5]</th>\n",
       "      <th>health_(0.996, 2.333]</th>\n",
       "      <th>health_(2.333, 3.667]</th>\n",
       "      <th>health_(3.667, 5]</th>\n",
       "      <th>absences_(-0.075, 25]</th>\n",
       "      <th>absences_(25, 50]</th>\n",
       "      <th>absences_(50, 75]</th>\n",
       "    </tr>\n",
       "  </thead>\n",
       "  <tbody>\n",
       "    <tr>\n",
       "      <th>0</th>\n",
       "      <td>1</td>\n",
       "      <td>0</td>\n",
       "      <td>1</td>\n",
       "      <td>1</td>\n",
       "      <td>0</td>\n",
       "      <td>1</td>\n",
       "      <td>0</td>\n",
       "      <td>0</td>\n",
       "      <td>0</td>\n",
       "      <td>1</td>\n",
       "      <td>...</td>\n",
       "      <td>0.0</td>\n",
       "      <td>1.0</td>\n",
       "      <td>0.0</td>\n",
       "      <td>0.0</td>\n",
       "      <td>0.0</td>\n",
       "      <td>1.0</td>\n",
       "      <td>0.0</td>\n",
       "      <td>1.0</td>\n",
       "      <td>0.0</td>\n",
       "      <td>0.0</td>\n",
       "    </tr>\n",
       "    <tr>\n",
       "      <th>1</th>\n",
       "      <td>1</td>\n",
       "      <td>0</td>\n",
       "      <td>1</td>\n",
       "      <td>1</td>\n",
       "      <td>1</td>\n",
       "      <td>0</td>\n",
       "      <td>1</td>\n",
       "      <td>0</td>\n",
       "      <td>0</td>\n",
       "      <td>0</td>\n",
       "      <td>...</td>\n",
       "      <td>0.0</td>\n",
       "      <td>1.0</td>\n",
       "      <td>0.0</td>\n",
       "      <td>0.0</td>\n",
       "      <td>0.0</td>\n",
       "      <td>1.0</td>\n",
       "      <td>0.0</td>\n",
       "      <td>1.0</td>\n",
       "      <td>0.0</td>\n",
       "      <td>0.0</td>\n",
       "    </tr>\n",
       "    <tr>\n",
       "      <th>2</th>\n",
       "      <td>1</td>\n",
       "      <td>0</td>\n",
       "      <td>1</td>\n",
       "      <td>0</td>\n",
       "      <td>1</td>\n",
       "      <td>1</td>\n",
       "      <td>0</td>\n",
       "      <td>1</td>\n",
       "      <td>0</td>\n",
       "      <td>1</td>\n",
       "      <td>...</td>\n",
       "      <td>0.0</td>\n",
       "      <td>0.0</td>\n",
       "      <td>1.0</td>\n",
       "      <td>0.0</td>\n",
       "      <td>0.0</td>\n",
       "      <td>1.0</td>\n",
       "      <td>0.0</td>\n",
       "      <td>1.0</td>\n",
       "      <td>0.0</td>\n",
       "      <td>0.0</td>\n",
       "    </tr>\n",
       "  </tbody>\n",
       "</table>\n",
       "<p>3 rows × 71 columns</p>\n",
       "</div>"
      ],
      "text/plain": [
       "   school  sex  address  famsize  Pstatus  schoolsup  famsup  paid  \\\n",
       "0       1    0        1        1        0          1       0     0   \n",
       "1       1    0        1        1        1          0       1     0   \n",
       "2       1    0        1        0        1          1       0     1   \n",
       "\n",
       "   activities  nursery        ...          Dalc_(3.667, 5]  \\\n",
       "0           0        1        ...                      0.0   \n",
       "1           0        0        ...                      0.0   \n",
       "2           0        1        ...                      0.0   \n",
       "\n",
       "   Walc_(0.996, 2.333]  Walc_(2.333, 3.667]  Walc_(3.667, 5]  \\\n",
       "0                  1.0                  0.0              0.0   \n",
       "1                  1.0                  0.0              0.0   \n",
       "2                  0.0                  1.0              0.0   \n",
       "\n",
       "   health_(0.996, 2.333]  health_(2.333, 3.667]  health_(3.667, 5]  \\\n",
       "0                    0.0                    1.0                0.0   \n",
       "1                    0.0                    1.0                0.0   \n",
       "2                    0.0                    1.0                0.0   \n",
       "\n",
       "   absences_(-0.075, 25]  absences_(25, 50]  absences_(50, 75]  \n",
       "0                    1.0                0.0                0.0  \n",
       "1                    1.0                0.0                0.0  \n",
       "2                    1.0                0.0                0.0  \n",
       "\n",
       "[3 rows x 71 columns]"
      ]
     },
     "execution_count": 2,
     "metadata": {},
     "output_type": "execute_result"
    }
   ],
   "source": [
    "df = pd.read_csv('student-comb_clean_bin.csv')\n",
    "target = 'G3'\n",
    "df.head(3)"
   ]
  },
  {
   "cell_type": "code",
   "execution_count": 3,
   "metadata": {
    "collapsed": false
   },
   "outputs": [
    {
     "name": "stdout",
     "output_type": "stream",
     "text": [
      "            school          sex      address      famsize      Pstatus  \\\n",
      "count  1044.000000  1044.000000  1044.000000  1044.000000  1044.000000   \n",
      "mean      0.739464     0.433908     0.727011     0.706897     0.884100   \n",
      "std       0.439138     0.495850     0.445708     0.455404     0.320259   \n",
      "min       0.000000     0.000000     0.000000     0.000000     0.000000   \n",
      "25%       0.000000     0.000000     0.000000     0.000000     1.000000   \n",
      "50%       1.000000     0.000000     1.000000     1.000000     1.000000   \n",
      "75%       1.000000     1.000000     1.000000     1.000000     1.000000   \n",
      "max       1.000000     1.000000     1.000000     1.000000     1.000000   \n",
      "\n",
      "         schoolsup       famsup         paid   activities      nursery  \\\n",
      "count  1044.000000  1044.000000  1044.000000  1044.000000  1044.000000   \n",
      "mean      0.113985     0.613027     0.210728     0.494253     0.799808   \n",
      "std       0.317945     0.487291     0.408021     0.500207     0.400335   \n",
      "min       0.000000     0.000000     0.000000     0.000000     0.000000   \n",
      "25%       0.000000     0.000000     0.000000     0.000000     1.000000   \n",
      "50%       0.000000     1.000000     0.000000     0.000000     1.000000   \n",
      "75%       0.000000     1.000000     0.000000     1.000000     1.000000   \n",
      "max       1.000000     1.000000     1.000000     1.000000     1.000000   \n",
      "\n",
      "             ...          Dalc_(3.667, 5]  Walc_(0.996, 2.333]  \\\n",
      "count        ...              1044.000000          1044.000000   \n",
      "mean         ...                 0.049808             0.606322   \n",
      "std          ...                 0.217653             0.488799   \n",
      "min          ...                 0.000000             0.000000   \n",
      "25%          ...                 0.000000             0.000000   \n",
      "50%          ...                 0.000000             1.000000   \n",
      "75%          ...                 0.000000             1.000000   \n",
      "max          ...                 1.000000             1.000000   \n",
      "\n",
      "       Walc_(2.333, 3.667]  Walc_(3.667, 5]  health_(0.996, 2.333]  \\\n",
      "count          1044.000000      1044.000000            1044.000000   \n",
      "mean              0.191571         0.202107               0.249042   \n",
      "std               0.393726         0.401764               0.432666   \n",
      "min               0.000000         0.000000               0.000000   \n",
      "25%               0.000000         0.000000               0.000000   \n",
      "50%               0.000000         0.000000               0.000000   \n",
      "75%               0.000000         0.000000               0.000000   \n",
      "max               1.000000         1.000000               1.000000   \n",
      "\n",
      "       health_(2.333, 3.667]  health_(3.667, 5]  absences_(-0.075, 25]  \\\n",
      "count            1044.000000        1044.000000            1044.000000   \n",
      "mean                0.205939           0.545019               0.989464   \n",
      "std                 0.404580           0.498208               0.102154   \n",
      "min                 0.000000           0.000000               0.000000   \n",
      "25%                 0.000000           0.000000               1.000000   \n",
      "50%                 0.000000           1.000000               1.000000   \n",
      "75%                 0.000000           1.000000               1.000000   \n",
      "max                 1.000000           1.000000               1.000000   \n",
      "\n",
      "       absences_(25, 50]  absences_(50, 75]  \n",
      "count        1044.000000        1044.000000  \n",
      "mean            0.007663           0.002874  \n",
      "std             0.087243           0.053554  \n",
      "min             0.000000           0.000000  \n",
      "25%             0.000000           0.000000  \n",
      "50%             0.000000           0.000000  \n",
      "75%             0.000000           0.000000  \n",
      "max             1.000000           1.000000  \n",
      "\n",
      "[8 rows x 71 columns]\n",
      "count    1044.000000\n",
      "mean        0.488506\n",
      "std         0.500107\n",
      "min         0.000000\n",
      "25%         0.000000\n",
      "50%         0.000000\n",
      "75%         1.000000\n",
      "max         1.000000\n",
      "Name: G3, dtype: float64\n"
     ]
    }
   ],
   "source": [
    "print(df.describe())\n",
    "print(df[target].describe())"
   ]
  },
  {
   "cell_type": "code",
   "execution_count": 4,
   "metadata": {
    "collapsed": true
   },
   "outputs": [],
   "source": [
    "def get_auc(X, y):\n",
    "    cv = StratifiedKFold(y, n_folds=10)\n",
    "    classifier = GaussianNB()\n",
    "\n",
    "    roc_aucs = list()\n",
    "    for i, (train,test) in enumerate(cv):\n",
    "        probas_ = classifier.fit(X[train], y[train]).predict_proba(X[test])\n",
    "        fpr, tpr, thresholds = roc_curve(y[test], probas_[:,1])\n",
    "        roc_aucs.append(auc(fpr, tpr))\n",
    "    return np.mean(roc_aucs)"
   ]
  },
  {
   "cell_type": "code",
   "execution_count": 5,
   "metadata": {
    "collapsed": false
   },
   "outputs": [],
   "source": [
    "def f(df):\n",
    "    features = list(df.columns)\n",
    "    features.remove(target)\n",
    "    X = df[features].values\n",
    "    y = df[target]\n",
    "    return get_auc(X, y)"
   ]
  },
  {
   "cell_type": "code",
   "execution_count": 6,
   "metadata": {
    "collapsed": false
   },
   "outputs": [],
   "source": [
    "df_mat = df[df['subject']==0]\n",
    "df_por = df[df['subject']==1]"
   ]
  },
  {
   "cell_type": "code",
   "execution_count": 9,
   "metadata": {
    "collapsed": false
   },
   "outputs": [
    {
     "name": "stdout",
     "output_type": "stream",
     "text": [
      "0.644008372042\n",
      "0.580219655797\n"
     ]
    }
   ],
   "source": [
    "auc_all = f(df)\n",
    "auc_mat = f(df_mat)\n",
    "\n",
    "#auc_por = f(df_por)\n",
    "print(auc_all)\n",
    "print(auc_mat)\n",
    "#print(auc_por)\n"
   ]
  },
  {
   "cell_type": "code",
   "execution_count": null,
   "metadata": {
    "collapsed": true
   },
   "outputs": [],
   "source": []
  }
 ],
 "metadata": {
  "kernelspec": {
   "display_name": "Python 3",
   "language": "python",
   "name": "python3"
  },
  "language_info": {
   "codemirror_mode": {
    "name": "ipython",
    "version": 3
   },
   "file_extension": ".py",
   "mimetype": "text/x-python",
   "name": "python",
   "nbconvert_exporter": "python",
   "pygments_lexer": "ipython3",
   "version": "3.4.3"
  }
 },
 "nbformat": 4,
 "nbformat_minor": 1
}
