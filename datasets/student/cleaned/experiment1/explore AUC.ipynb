{
 "cells": [
  {
   "cell_type": "code",
   "execution_count": 64,
   "metadata": {
    "collapsed": true
   },
   "outputs": [],
   "source": [
    "import pandas as pd\n",
    "import numpy as np\n",
    "from sklearn.cross_validation import train_test_split, StratifiedKFold\n",
    "from sklearn.metrics import roc_curve, auc, roc_auc_score, precision_recall_fscore_support\n",
    "from sklearn.naive_bayes import GaussianNB\n",
    "from tabulate import tabulate\n"
   ]
  },
  {
   "cell_type": "code",
   "execution_count": 57,
   "metadata": {
    "collapsed": false
   },
   "outputs": [
    {
     "data": {
      "text/html": [
       "<div>\n",
       "<table border=\"1\" class=\"dataframe\">\n",
       "  <thead>\n",
       "    <tr style=\"text-align: right;\">\n",
       "      <th></th>\n",
       "      <th>school</th>\n",
       "      <th>sex</th>\n",
       "      <th>age</th>\n",
       "      <th>address</th>\n",
       "      <th>famsize</th>\n",
       "      <th>Pstatus</th>\n",
       "      <th>Medu</th>\n",
       "      <th>Fedu</th>\n",
       "      <th>traveltime</th>\n",
       "      <th>studytime</th>\n",
       "      <th>...</th>\n",
       "      <th>Fjob_other</th>\n",
       "      <th>Fjob_services</th>\n",
       "      <th>Fjob_teacher</th>\n",
       "      <th>reason_course</th>\n",
       "      <th>reason_home</th>\n",
       "      <th>reason_other</th>\n",
       "      <th>reason_reputation</th>\n",
       "      <th>guardian_father</th>\n",
       "      <th>guardian_mother</th>\n",
       "      <th>guardian_other</th>\n",
       "    </tr>\n",
       "  </thead>\n",
       "  <tbody>\n",
       "    <tr>\n",
       "      <th>0</th>\n",
       "      <td>1</td>\n",
       "      <td>0</td>\n",
       "      <td>18</td>\n",
       "      <td>1</td>\n",
       "      <td>1</td>\n",
       "      <td>0</td>\n",
       "      <td>4</td>\n",
       "      <td>4</td>\n",
       "      <td>2</td>\n",
       "      <td>2</td>\n",
       "      <td>...</td>\n",
       "      <td>0.0</td>\n",
       "      <td>0.0</td>\n",
       "      <td>1.0</td>\n",
       "      <td>1.0</td>\n",
       "      <td>0.0</td>\n",
       "      <td>0.0</td>\n",
       "      <td>0.0</td>\n",
       "      <td>0.0</td>\n",
       "      <td>1.0</td>\n",
       "      <td>0.0</td>\n",
       "    </tr>\n",
       "    <tr>\n",
       "      <th>1</th>\n",
       "      <td>1</td>\n",
       "      <td>0</td>\n",
       "      <td>17</td>\n",
       "      <td>1</td>\n",
       "      <td>1</td>\n",
       "      <td>1</td>\n",
       "      <td>1</td>\n",
       "      <td>1</td>\n",
       "      <td>1</td>\n",
       "      <td>2</td>\n",
       "      <td>...</td>\n",
       "      <td>1.0</td>\n",
       "      <td>0.0</td>\n",
       "      <td>0.0</td>\n",
       "      <td>1.0</td>\n",
       "      <td>0.0</td>\n",
       "      <td>0.0</td>\n",
       "      <td>0.0</td>\n",
       "      <td>1.0</td>\n",
       "      <td>0.0</td>\n",
       "      <td>0.0</td>\n",
       "    </tr>\n",
       "    <tr>\n",
       "      <th>2</th>\n",
       "      <td>1</td>\n",
       "      <td>0</td>\n",
       "      <td>15</td>\n",
       "      <td>1</td>\n",
       "      <td>0</td>\n",
       "      <td>1</td>\n",
       "      <td>1</td>\n",
       "      <td>1</td>\n",
       "      <td>1</td>\n",
       "      <td>2</td>\n",
       "      <td>...</td>\n",
       "      <td>1.0</td>\n",
       "      <td>0.0</td>\n",
       "      <td>0.0</td>\n",
       "      <td>0.0</td>\n",
       "      <td>0.0</td>\n",
       "      <td>1.0</td>\n",
       "      <td>0.0</td>\n",
       "      <td>0.0</td>\n",
       "      <td>1.0</td>\n",
       "      <td>0.0</td>\n",
       "    </tr>\n",
       "  </tbody>\n",
       "</table>\n",
       "<p>3 rows × 45 columns</p>\n",
       "</div>"
      ],
      "text/plain": [
       "   school  sex  age  address  famsize  Pstatus  Medu  Fedu  traveltime  \\\n",
       "0       1    0   18        1        1        0     4     4           2   \n",
       "1       1    0   17        1        1        1     1     1           1   \n",
       "2       1    0   15        1        0        1     1     1           1   \n",
       "\n",
       "   studytime       ...        Fjob_other  Fjob_services  Fjob_teacher  \\\n",
       "0          2       ...               0.0            0.0           1.0   \n",
       "1          2       ...               1.0            0.0           0.0   \n",
       "2          2       ...               1.0            0.0           0.0   \n",
       "\n",
       "   reason_course  reason_home  reason_other  reason_reputation  \\\n",
       "0            1.0          0.0           0.0                0.0   \n",
       "1            1.0          0.0           0.0                0.0   \n",
       "2            0.0          0.0           1.0                0.0   \n",
       "\n",
       "   guardian_father  guardian_mother  guardian_other  \n",
       "0              0.0              1.0             0.0  \n",
       "1              1.0              0.0             0.0  \n",
       "2              0.0              1.0             0.0  \n",
       "\n",
       "[3 rows x 45 columns]"
      ]
     },
     "execution_count": 57,
     "metadata": {},
     "output_type": "execute_result"
    }
   ],
   "source": [
    "df = pd.read_csv('student-comb_clean_bin.csv')\n",
    "target = 'G3'\n",
    "df.head(3)"
   ]
  },
  {
   "cell_type": "code",
   "execution_count": 81,
   "metadata": {
    "collapsed": false
   },
   "outputs": [
    {
     "name": "stdout",
     "output_type": "stream",
     "text": [
      "            school          sex          age      address      famsize  \\\n",
      "count  1044.000000  1044.000000  1044.000000  1044.000000  1044.000000   \n",
      "mean      0.739464     0.433908    16.726054     0.727011     0.706897   \n",
      "std       0.439138     0.495850     1.239975     0.445708     0.455404   \n",
      "min       0.000000     0.000000    15.000000     0.000000     0.000000   \n",
      "25%       0.000000     0.000000    16.000000     0.000000     0.000000   \n",
      "50%       1.000000     0.000000    17.000000     1.000000     1.000000   \n",
      "75%       1.000000     1.000000    18.000000     1.000000     1.000000   \n",
      "max       1.000000     1.000000    22.000000     1.000000     1.000000   \n",
      "\n",
      "           Pstatus         Medu         Fedu   traveltime    studytime  \\\n",
      "count  1044.000000  1044.000000  1044.000000  1044.000000  1044.000000   \n",
      "mean      0.884100     2.603448     2.387931     1.522989     1.970307   \n",
      "std       0.320259     1.124907     1.099938     0.731727     0.834353   \n",
      "min       0.000000     0.000000     0.000000     1.000000     1.000000   \n",
      "25%       1.000000     2.000000     1.000000     1.000000     1.000000   \n",
      "50%       1.000000     3.000000     2.000000     1.000000     2.000000   \n",
      "75%       1.000000     4.000000     3.000000     2.000000     2.000000   \n",
      "max       1.000000     4.000000     4.000000     4.000000     4.000000   \n",
      "\n",
      "            ...         Fjob_other  Fjob_services  Fjob_teacher  \\\n",
      "count       ...        1044.000000    1044.000000   1044.000000   \n",
      "mean        ...           0.559387       0.279693      0.062261   \n",
      "std         ...           0.496699       0.449064      0.241744   \n",
      "min         ...           0.000000       0.000000      0.000000   \n",
      "25%         ...           0.000000       0.000000      0.000000   \n",
      "50%         ...           1.000000       0.000000      0.000000   \n",
      "75%         ...           1.000000       1.000000      0.000000   \n",
      "max         ...           1.000000       1.000000      1.000000   \n",
      "\n",
      "       reason_course  reason_home  reason_other  reason_reputation  \\\n",
      "count    1044.000000  1044.000000   1044.000000        1044.000000   \n",
      "mean        0.411877     0.247126      0.103448           0.237548   \n",
      "std         0.492409     0.431548      0.304689           0.425785   \n",
      "min         0.000000     0.000000      0.000000           0.000000   \n",
      "25%         0.000000     0.000000      0.000000           0.000000   \n",
      "50%         0.000000     0.000000      0.000000           0.000000   \n",
      "75%         1.000000     0.000000      0.000000           0.000000   \n",
      "max         1.000000     1.000000      1.000000           1.000000   \n",
      "\n",
      "       guardian_father  guardian_mother  guardian_other  \n",
      "count      1044.000000      1044.000000     1044.000000  \n",
      "mean          0.232759         0.697318        0.069923  \n",
      "std           0.422792         0.459639        0.255140  \n",
      "min           0.000000         0.000000        0.000000  \n",
      "25%           0.000000         0.000000        0.000000  \n",
      "50%           0.000000         1.000000        0.000000  \n",
      "75%           0.000000         1.000000        0.000000  \n",
      "max           1.000000         1.000000        1.000000  \n",
      "\n",
      "[8 rows x 45 columns]\n",
      "count    1044.000000\n",
      "mean        0.488506\n",
      "std         0.500107\n",
      "min         0.000000\n",
      "25%         0.000000\n",
      "50%         0.000000\n",
      "75%         1.000000\n",
      "max         1.000000\n",
      "Name: G3, dtype: float64\n"
     ]
    }
   ],
   "source": [
    "print(df.describe())\n",
    "print(df[target].describe())"
   ]
  },
  {
   "cell_type": "code",
   "execution_count": 58,
   "metadata": {
    "collapsed": true
   },
   "outputs": [],
   "source": [
    "def get_auc(X, y):\n",
    "    cv = StratifiedKFold(y, n_folds=10)\n",
    "    classifier = GaussianNB()\n",
    "\n",
    "    roc_aucs = list()\n",
    "    for i, (train,test) in enumerate(cv):\n",
    "        probas_ = classifier.fit(X[train], y[train]).predict_proba(X[test])\n",
    "        fpr, tpr, thresholds = roc_curve(y[test], probas_[:,1])\n",
    "        roc_aucs.append(auc(fpr, tpr))\n",
    "    return np.mean(roc_aucs)"
   ]
  },
  {
   "cell_type": "code",
   "execution_count": 83,
   "metadata": {
    "collapsed": false
   },
   "outputs": [],
   "source": [
    "def f(df):\n",
    "    features = list(df.columns)\n",
    "    features.remove(target)\n",
    "    X = df[features].values\n",
    "    y = df[target]\n",
    "    return get_auc(X, y)"
   ]
  },
  {
   "cell_type": "code",
   "execution_count": 84,
   "metadata": {
    "collapsed": false
   },
   "outputs": [],
   "source": [
    "df_mat = df[df['subject']==0]\n",
    "df_por = df[df['subject']==1]"
   ]
  },
  {
   "cell_type": "code",
   "execution_count": 85,
   "metadata": {
    "collapsed": false
   },
   "outputs": [
    {
     "name": "stdout",
     "output_type": "stream",
     "text": [
      "0.745909551801\n",
      "0.663044810315\n"
     ]
    }
   ],
   "source": [
    "auc_all = f(df)\n",
    "auc_mat = f(df_mat)\n",
    "\n",
    "#auc_por = f(df_por)\n",
    "print(auc_all)\n",
    "print(auc_mat)\n",
    "#print(auc_por)\n"
   ]
  },
  {
   "cell_type": "code",
   "execution_count": null,
   "metadata": {
    "collapsed": true
   },
   "outputs": [],
   "source": []
  }
 ],
 "metadata": {
  "kernelspec": {
   "display_name": "Python 3",
   "language": "python",
   "name": "python3"
  },
  "language_info": {
   "codemirror_mode": {
    "name": "ipython",
    "version": 3
   },
   "file_extension": ".py",
   "mimetype": "text/x-python",
   "name": "python",
   "nbconvert_exporter": "python",
   "pygments_lexer": "ipython3",
   "version": "3.4.3"
  }
 },
 "nbformat": 4,
 "nbformat_minor": 1
}
