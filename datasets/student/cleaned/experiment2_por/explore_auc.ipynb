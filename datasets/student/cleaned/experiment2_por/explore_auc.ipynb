{
 "cells": [
  {
   "cell_type": "code",
   "execution_count": 1,
   "metadata": {
    "collapsed": true
   },
   "outputs": [],
   "source": [
    "import pandas as pd\n",
    "import numpy as np\n",
    "from sklearn.cross_validation import train_test_split, StratifiedKFold\n",
    "from sklearn.metrics import roc_curve, auc, roc_auc_score, precision_recall_fscore_support\n",
    "from sklearn.naive_bayes import GaussianNB\n",
    "from tabulate import tabulate\n"
   ]
  },
  {
   "cell_type": "code",
   "execution_count": 2,
   "metadata": {
    "collapsed": false
   },
   "outputs": [
    {
     "data": {
      "text/html": [
       "<div>\n",
       "<table border=\"1\" class=\"dataframe\">\n",
       "  <thead>\n",
       "    <tr style=\"text-align: right;\">\n",
       "      <th></th>\n",
       "      <th>G3</th>\n",
       "      <th>school==MS</th>\n",
       "      <th>sex==M</th>\n",
       "      <th>age_(14.993, 17.333]</th>\n",
       "      <th>age_(17.333, 19.667]</th>\n",
       "      <th>age_(19.667, 22]</th>\n",
       "      <th>address==U</th>\n",
       "      <th>famsize==LE3</th>\n",
       "      <th>Pstatus==T</th>\n",
       "      <th>Medu_(-0.004, 1.333]</th>\n",
       "      <th>...</th>\n",
       "      <th>Dalc_(3.667, 5]</th>\n",
       "      <th>Walc_(0.996, 2.333]</th>\n",
       "      <th>Walc_(2.333, 3.667]</th>\n",
       "      <th>Walc_(3.667, 5]</th>\n",
       "      <th>health_(0.996, 2.333]</th>\n",
       "      <th>health_(2.333, 3.667]</th>\n",
       "      <th>health_(3.667, 5]</th>\n",
       "      <th>absences_(-0.032, 10.667]</th>\n",
       "      <th>absences_(10.667, 21.333]</th>\n",
       "      <th>absences_(21.333, 32]</th>\n",
       "    </tr>\n",
       "  </thead>\n",
       "  <tbody>\n",
       "    <tr>\n",
       "      <th>0</th>\n",
       "      <td>0</td>\n",
       "      <td>0</td>\n",
       "      <td>0</td>\n",
       "      <td>0</td>\n",
       "      <td>1</td>\n",
       "      <td>0</td>\n",
       "      <td>1</td>\n",
       "      <td>0</td>\n",
       "      <td>0</td>\n",
       "      <td>0</td>\n",
       "      <td>...</td>\n",
       "      <td>0</td>\n",
       "      <td>1</td>\n",
       "      <td>0</td>\n",
       "      <td>0</td>\n",
       "      <td>0</td>\n",
       "      <td>1</td>\n",
       "      <td>0</td>\n",
       "      <td>1</td>\n",
       "      <td>0</td>\n",
       "      <td>0</td>\n",
       "    </tr>\n",
       "    <tr>\n",
       "      <th>1</th>\n",
       "      <td>0</td>\n",
       "      <td>0</td>\n",
       "      <td>0</td>\n",
       "      <td>1</td>\n",
       "      <td>0</td>\n",
       "      <td>0</td>\n",
       "      <td>1</td>\n",
       "      <td>0</td>\n",
       "      <td>1</td>\n",
       "      <td>1</td>\n",
       "      <td>...</td>\n",
       "      <td>0</td>\n",
       "      <td>1</td>\n",
       "      <td>0</td>\n",
       "      <td>0</td>\n",
       "      <td>0</td>\n",
       "      <td>1</td>\n",
       "      <td>0</td>\n",
       "      <td>1</td>\n",
       "      <td>0</td>\n",
       "      <td>0</td>\n",
       "    </tr>\n",
       "    <tr>\n",
       "      <th>2</th>\n",
       "      <td>1</td>\n",
       "      <td>0</td>\n",
       "      <td>0</td>\n",
       "      <td>1</td>\n",
       "      <td>0</td>\n",
       "      <td>0</td>\n",
       "      <td>1</td>\n",
       "      <td>1</td>\n",
       "      <td>1</td>\n",
       "      <td>1</td>\n",
       "      <td>...</td>\n",
       "      <td>0</td>\n",
       "      <td>0</td>\n",
       "      <td>1</td>\n",
       "      <td>0</td>\n",
       "      <td>0</td>\n",
       "      <td>1</td>\n",
       "      <td>0</td>\n",
       "      <td>1</td>\n",
       "      <td>0</td>\n",
       "      <td>0</td>\n",
       "    </tr>\n",
       "  </tbody>\n",
       "</table>\n",
       "<p>3 rows × 70 columns</p>\n",
       "</div>"
      ],
      "text/plain": [
       "   G3  school==MS  sex==M  age_(14.993, 17.333]  age_(17.333, 19.667]  \\\n",
       "0   0           0       0                     0                     1   \n",
       "1   0           0       0                     1                     0   \n",
       "2   1           0       0                     1                     0   \n",
       "\n",
       "   age_(19.667, 22]  address==U  famsize==LE3  Pstatus==T  \\\n",
       "0                 0           1             0           0   \n",
       "1                 0           1             0           1   \n",
       "2                 0           1             1           1   \n",
       "\n",
       "   Medu_(-0.004, 1.333]          ...            Dalc_(3.667, 5]  \\\n",
       "0                     0          ...                          0   \n",
       "1                     1          ...                          0   \n",
       "2                     1          ...                          0   \n",
       "\n",
       "   Walc_(0.996, 2.333]  Walc_(2.333, 3.667]  Walc_(3.667, 5]  \\\n",
       "0                    1                    0                0   \n",
       "1                    1                    0                0   \n",
       "2                    0                    1                0   \n",
       "\n",
       "   health_(0.996, 2.333]  health_(2.333, 3.667]  health_(3.667, 5]  \\\n",
       "0                      0                      1                  0   \n",
       "1                      0                      1                  0   \n",
       "2                      0                      1                  0   \n",
       "\n",
       "   absences_(-0.032, 10.667]  absences_(10.667, 21.333]  absences_(21.333, 32]  \n",
       "0                          1                          0                      0  \n",
       "1                          1                          0                      0  \n",
       "2                          1                          0                      0  \n",
       "\n",
       "[3 rows x 70 columns]"
      ]
     },
     "execution_count": 2,
     "metadata": {},
     "output_type": "execute_result"
    }
   ],
   "source": [
    "df = pd.read_csv('student-por_clean_bin.csv')\n",
    "target = 'G3'\n",
    "df.head(3)"
   ]
  },
  {
   "cell_type": "code",
   "execution_count": 3,
   "metadata": {
    "collapsed": false
   },
   "outputs": [
    {
     "name": "stdout",
     "output_type": "stream",
     "text": [
      "               G3  school==MS      sex==M  age_(14.993, 17.333]  \\\n",
      "count  649.000000  649.000000  649.000000            649.000000   \n",
      "mean     0.536210    0.348228    0.409861              0.721109   \n",
      "std      0.499072    0.476776    0.492187              0.448799   \n",
      "min      0.000000    0.000000    0.000000              0.000000   \n",
      "25%      0.000000    0.000000    0.000000              0.000000   \n",
      "50%      1.000000    0.000000    0.000000              1.000000   \n",
      "75%      1.000000    1.000000    1.000000              1.000000   \n",
      "max      1.000000    1.000000    1.000000              1.000000   \n",
      "\n",
      "       age_(17.333, 19.667]  age_(19.667, 22]  address==U  famsize==LE3  \\\n",
      "count            649.000000        649.000000  649.000000    649.000000   \n",
      "mean               0.265023          0.013867    0.696456      0.295840   \n",
      "std                0.441686          0.117031    0.460143      0.456771   \n",
      "min                0.000000          0.000000    0.000000      0.000000   \n",
      "25%                0.000000          0.000000    0.000000      0.000000   \n",
      "50%                0.000000          0.000000    1.000000      0.000000   \n",
      "75%                1.000000          0.000000    1.000000      1.000000   \n",
      "max                1.000000          1.000000    1.000000      1.000000   \n",
      "\n",
      "       Pstatus==T  Medu_(-0.004, 1.333]          ...            \\\n",
      "count  649.000000            649.000000          ...             \n",
      "mean     0.876733              0.229584          ...             \n",
      "std      0.328996              0.420890          ...             \n",
      "min      0.000000              0.000000          ...             \n",
      "25%      1.000000              0.000000          ...             \n",
      "50%      1.000000              0.000000          ...             \n",
      "75%      1.000000              0.000000          ...             \n",
      "max      1.000000              1.000000          ...             \n",
      "\n",
      "       Dalc_(3.667, 5]  Walc_(0.996, 2.333]  Walc_(2.333, 3.667]  \\\n",
      "count       649.000000           649.000000           649.000000   \n",
      "mean          0.052388             0.611710             0.184900   \n",
      "std           0.222981             0.487737             0.388516   \n",
      "min           0.000000             0.000000             0.000000   \n",
      "25%           0.000000             0.000000             0.000000   \n",
      "50%           0.000000             1.000000             0.000000   \n",
      "75%           0.000000             1.000000             0.000000   \n",
      "max           1.000000             1.000000             1.000000   \n",
      "\n",
      "       Walc_(3.667, 5]  health_(0.996, 2.333]  health_(2.333, 3.667]  \\\n",
      "count       649.000000             649.000000             649.000000   \n",
      "mean          0.203390               0.258860               0.191063   \n",
      "std           0.402831               0.438346               0.393442   \n",
      "min           0.000000               0.000000               0.000000   \n",
      "25%           0.000000               0.000000               0.000000   \n",
      "50%           0.000000               0.000000               0.000000   \n",
      "75%           0.000000               1.000000               0.000000   \n",
      "max           1.000000               1.000000               1.000000   \n",
      "\n",
      "       health_(3.667, 5]  absences_(-0.032, 10.667]  \\\n",
      "count         649.000000                 649.000000   \n",
      "mean            0.550077                   0.924499   \n",
      "std             0.497870                   0.264401   \n",
      "min             0.000000                   0.000000   \n",
      "25%             0.000000                   1.000000   \n",
      "50%             1.000000                   1.000000   \n",
      "75%             1.000000                   1.000000   \n",
      "max             1.000000                   1.000000   \n",
      "\n",
      "       absences_(10.667, 21.333]  absences_(21.333, 32]  \n",
      "count                 649.000000             649.000000  \n",
      "mean                    0.066256               0.009245  \n",
      "std                     0.248921               0.095779  \n",
      "min                     0.000000               0.000000  \n",
      "25%                     0.000000               0.000000  \n",
      "50%                     0.000000               0.000000  \n",
      "75%                     0.000000               0.000000  \n",
      "max                     1.000000               1.000000  \n",
      "\n",
      "[8 rows x 70 columns]\n",
      "count    649.000000\n",
      "mean       0.536210\n",
      "std        0.499072\n",
      "min        0.000000\n",
      "25%        0.000000\n",
      "50%        1.000000\n",
      "75%        1.000000\n",
      "max        1.000000\n",
      "Name: G3, dtype: float64\n"
     ]
    }
   ],
   "source": [
    "print(df.describe())\n",
    "print(df[target].describe())"
   ]
  },
  {
   "cell_type": "code",
   "execution_count": 4,
   "metadata": {
    "collapsed": true
   },
   "outputs": [],
   "source": [
    "def get_auc(X, y):\n",
    "    cv = StratifiedKFold(y, n_folds=10)\n",
    "    classifier = GaussianNB()\n",
    "\n",
    "    roc_aucs = list()\n",
    "    for i, (train,test) in enumerate(cv):\n",
    "        probas_ = classifier.fit(X[train], y[train]).predict_proba(X[test])\n",
    "        fpr, tpr, thresholds = roc_curve(y[test], probas_[:,1])\n",
    "        roc_aucs.append(auc(fpr, tpr))\n",
    "    return np.mean(roc_aucs)"
   ]
  },
  {
   "cell_type": "code",
   "execution_count": 5,
   "metadata": {
    "collapsed": false
   },
   "outputs": [],
   "source": [
    "def f(df):\n",
    "    features = list(df.columns)\n",
    "    features.remove(target)\n",
    "    X = df[features].values\n",
    "    y = df[target]\n",
    "    return get_auc(X, y)"
   ]
  },
  {
   "cell_type": "code",
   "execution_count": 6,
   "metadata": {
    "collapsed": false
   },
   "outputs": [
    {
     "name": "stdout",
     "output_type": "stream",
     "text": [
      "0.753887006415\n"
     ]
    }
   ],
   "source": [
    "auc = f(df)\n",
    "print(auc)"
   ]
  },
  {
   "cell_type": "code",
   "execution_count": null,
   "metadata": {
    "collapsed": false
   },
   "outputs": [],
   "source": []
  },
  {
   "cell_type": "code",
   "execution_count": null,
   "metadata": {
    "collapsed": true
   },
   "outputs": [],
   "source": []
  }
 ],
 "metadata": {
  "kernelspec": {
   "display_name": "Python 3",
   "language": "python",
   "name": "python3"
  },
  "language_info": {
   "codemirror_mode": {
    "name": "ipython",
    "version": 3
   },
   "file_extension": ".py",
   "mimetype": "text/x-python",
   "name": "python",
   "nbconvert_exporter": "python",
   "pygments_lexer": "ipython3",
   "version": "3.4.3"
  }
 },
 "nbformat": 4,
 "nbformat_minor": 1
}
