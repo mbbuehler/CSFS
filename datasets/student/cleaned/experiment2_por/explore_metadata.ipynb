{
 "cells": [
  {
   "cell_type": "code",
   "execution_count": 1,
   "metadata": {
    "collapsed": true
   },
   "outputs": [],
   "source": [
    "import pandas as pd\n"
   ]
  },
  {
   "cell_type": "code",
   "execution_count": 5,
   "metadata": {
    "collapsed": false
   },
   "outputs": [
    {
     "data": {
      "text/html": [
       "<div>\n",
       "<table border=\"1\" class=\"dataframe\">\n",
       "  <thead>\n",
       "    <tr style=\"text-align: right;\">\n",
       "      <th></th>\n",
       "      <th>mean</th>\n",
       "      <th>mean|f=0</th>\n",
       "      <th>mean|f=1</th>\n",
       "      <th>std</th>\n",
       "      <th>H</th>\n",
       "      <th>IG</th>\n",
       "      <th>IG ratio</th>\n",
       "    </tr>\n",
       "  </thead>\n",
       "  <tbody>\n",
       "    <tr>\n",
       "      <th>G3</th>\n",
       "      <td>0.536210</td>\n",
       "      <td>0.000000</td>\n",
       "      <td>1.000000</td>\n",
       "      <td>0.498687</td>\n",
       "      <td>0.996214</td>\n",
       "      <td>0.996214</td>\n",
       "      <td>1.000000</td>\n",
       "    </tr>\n",
       "    <tr>\n",
       "      <th>higher==yes</th>\n",
       "      <td>0.893683</td>\n",
       "      <td>0.072464</td>\n",
       "      <td>0.591379</td>\n",
       "      <td>0.308243</td>\n",
       "      <td>0.488707</td>\n",
       "      <td>0.084310</td>\n",
       "      <td>0.172516</td>\n",
       "    </tr>\n",
       "    <tr>\n",
       "      <th>school==MS</th>\n",
       "      <td>0.348228</td>\n",
       "      <td>0.633570</td>\n",
       "      <td>0.353982</td>\n",
       "      <td>0.476409</td>\n",
       "      <td>0.932476</td>\n",
       "      <td>0.051915</td>\n",
       "      <td>0.055674</td>\n",
       "    </tr>\n",
       "  </tbody>\n",
       "</table>\n",
       "</div>"
      ],
      "text/plain": [
       "                 mean  mean|f=0  mean|f=1       std         H        IG  \\\n",
       "G3           0.536210  0.000000  1.000000  0.498687  0.996214  0.996214   \n",
       "higher==yes  0.893683  0.072464  0.591379  0.308243  0.488707  0.084310   \n",
       "school==MS   0.348228  0.633570  0.353982  0.476409  0.932476  0.051915   \n",
       "\n",
       "             IG ratio  \n",
       "G3           1.000000  \n",
       "higher==yes  0.172516  \n",
       "school==MS   0.055674  "
      ]
     },
     "execution_count": 5,
     "metadata": {},
     "output_type": "execute_result"
    }
   ],
   "source": [
    "df = pd.read_csv('student-por_clean_bin_meta.csv', index_col=0)\n",
    "target = 'G3'\n",
    "df.head(3)"
   ]
  },
  {
   "cell_type": "code",
   "execution_count": 9,
   "metadata": {
    "collapsed": false
   },
   "outputs": [
    {
     "name": "stdout",
     "output_type": "stream",
     "text": [
      "best features\n"
     ]
    },
    {
     "data": {
      "text/plain": [
       "G3                      0.996214\n",
       "higher==yes             0.084310\n",
       "school==MS              0.051915\n",
       "failures_(-0.003, 1]    0.035696\n",
       "Mjob_at_home            0.034002\n",
       "Medu_(-0.004, 1.333]    0.032736\n",
       "Fedu_(2.667, 4]         0.030004\n",
       "Walc_(3.667, 5]         0.028442\n",
       "studytime_(0.997, 2]    0.028031\n",
       "Medu_(2.667, 4]         0.027789\n",
       "Name: IG, dtype: float64"
      ]
     },
     "execution_count": 9,
     "metadata": {},
     "output_type": "execute_result"
    }
   ],
   "source": [
    "print('best features')\n",
    "df['IG'].nlargest(10)"
   ]
  },
  {
   "cell_type": "code",
   "execution_count": 11,
   "metadata": {
    "collapsed": false
   },
   "outputs": [
    {
     "name": "stdout",
     "output_type": "stream",
     "text": [
      "worst features\n"
     ]
    },
    {
     "data": {
      "text/plain": [
       "famsize==LE3             7.542423e-08\n",
       "Pstatus==T               6.791932e-07\n",
       "health_(2.333, 3.667]    1.069421e-05\n",
       "Mjob_other               1.244790e-05\n",
       "paid==yes                1.012689e-04\n",
       "guardian_mother          1.283013e-04\n",
       "Fjob_other               2.180526e-04\n",
       "Medu_(1.333, 2.667]      2.517556e-04\n",
       "age_(19.667, 22]         3.423834e-04\n",
       "famsup==yes              3.737703e-04\n",
       "Name: IG, dtype: float64"
      ]
     },
     "execution_count": 11,
     "metadata": {},
     "output_type": "execute_result"
    }
   ],
   "source": [
    "print('worst features')\n",
    "df['IG'].nsmallest(10)"
   ]
  },
  {
   "cell_type": "code",
   "execution_count": 15,
   "metadata": {
    "collapsed": false
   },
   "outputs": [
    {
     "data": {
      "text/html": [
       "<div>\n",
       "<table border=\"1\" class=\"dataframe\">\n",
       "  <thead>\n",
       "    <tr style=\"text-align: right;\">\n",
       "      <th></th>\n",
       "      <th>mean</th>\n",
       "      <th>mean|f=0</th>\n",
       "      <th>mean|f=1</th>\n",
       "      <th>std</th>\n",
       "      <th>H</th>\n",
       "      <th>IG</th>\n",
       "      <th>IG ratio</th>\n",
       "      <th>diff mean</th>\n",
       "      <th>diff mean|f=0</th>\n",
       "      <th>diff mean|f=1</th>\n",
       "    </tr>\n",
       "  </thead>\n",
       "  <tbody>\n",
       "    <tr>\n",
       "      <th>G3</th>\n",
       "      <td>0.536210</td>\n",
       "      <td>0.000000</td>\n",
       "      <td>1.000000</td>\n",
       "      <td>0.498687</td>\n",
       "      <td>0.996214</td>\n",
       "      <td>0.996214</td>\n",
       "      <td>1.000000</td>\n",
       "      <td>0.036210</td>\n",
       "      <td>0.500000</td>\n",
       "      <td>0.500000</td>\n",
       "    </tr>\n",
       "    <tr>\n",
       "      <th>higher==yes</th>\n",
       "      <td>0.893683</td>\n",
       "      <td>0.072464</td>\n",
       "      <td>0.591379</td>\n",
       "      <td>0.308243</td>\n",
       "      <td>0.488707</td>\n",
       "      <td>0.084310</td>\n",
       "      <td>0.172516</td>\n",
       "      <td>0.393683</td>\n",
       "      <td>0.427536</td>\n",
       "      <td>0.091379</td>\n",
       "    </tr>\n",
       "    <tr>\n",
       "      <th>school==MS</th>\n",
       "      <td>0.348228</td>\n",
       "      <td>0.633570</td>\n",
       "      <td>0.353982</td>\n",
       "      <td>0.476409</td>\n",
       "      <td>0.932476</td>\n",
       "      <td>0.051915</td>\n",
       "      <td>0.055674</td>\n",
       "      <td>0.151772</td>\n",
       "      <td>0.133570</td>\n",
       "      <td>0.146018</td>\n",
       "    </tr>\n",
       "  </tbody>\n",
       "</table>\n",
       "</div>"
      ],
      "text/plain": [
       "                 mean  mean|f=0  mean|f=1       std         H        IG  \\\n",
       "G3           0.536210  0.000000  1.000000  0.498687  0.996214  0.996214   \n",
       "higher==yes  0.893683  0.072464  0.591379  0.308243  0.488707  0.084310   \n",
       "school==MS   0.348228  0.633570  0.353982  0.476409  0.932476  0.051915   \n",
       "\n",
       "             IG ratio  diff mean  diff mean|f=0  diff mean|f=1  \n",
       "G3           1.000000   0.036210       0.500000       0.500000  \n",
       "higher==yes  0.172516   0.393683       0.427536       0.091379  \n",
       "school==MS   0.055674   0.151772       0.133570       0.146018  "
      ]
     },
     "execution_count": 15,
     "metadata": {},
     "output_type": "execute_result"
    }
   ],
   "source": [
    "def diff(x):\n",
    "    x['diff mean'] = abs(x['mean']-0.5)\n",
    "    x['diff mean|f=0'] = abs(x['mean|f=0']-0.5)\n",
    "    x['diff mean|f=1'] = abs(x['mean|f=1']-0.5)\n",
    "    return x\n",
    "df_tmp = df.apply(diff, axis='columns')\n",
    "df_tmp.head(3)"
   ]
  },
  {
   "cell_type": "code",
   "execution_count": 18,
   "metadata": {
    "collapsed": false
   },
   "outputs": [
    {
     "name": "stdout",
     "output_type": "stream",
     "text": [
      "most extreme mean\n"
     ]
    },
    {
     "data": {
      "text/plain": [
       "absences_(21.333, 32]    0.490755\n",
       "age_(19.667, 22]         0.486133\n",
       "failures_(2, 3]          0.478428\n",
       "Name: diff mean, dtype: float64"
      ]
     },
     "execution_count": 18,
     "metadata": {},
     "output_type": "execute_result"
    }
   ],
   "source": [
    "print('most extreme mean')\n",
    "df_tmp['diff mean'].nlargest(3)"
   ]
  },
  {
   "cell_type": "code",
   "execution_count": 19,
   "metadata": {
    "collapsed": false
   },
   "outputs": [
    {
     "name": "stdout",
     "output_type": "stream",
     "text": [
      "most extreme mean|f=0\n"
     ]
    },
    {
     "data": {
      "text/plain": [
       "G3                      0.500000\n",
       "failures_(-0.003, 1]    0.433333\n",
       "higher==yes             0.427536\n",
       "studytime_(0.997, 2]    0.227273\n",
       "Name: diff mean|f=0, dtype: float64"
      ]
     },
     "execution_count": 19,
     "metadata": {},
     "output_type": "execute_result"
    }
   ],
   "source": [
    "print('most extreme mean|f=0')\n",
    "df_tmp['diff mean|f=0'].nlargest(4)"
   ]
  },
  {
   "cell_type": "code",
   "execution_count": 20,
   "metadata": {
    "collapsed": false
   },
   "outputs": [
    {
     "name": "stdout",
     "output_type": "stream",
     "text": [
      "most extreme mean|f=1\n"
     ]
    },
    {
     "data": {
      "text/plain": [
       "G3                 0.500000\n",
       "failures_(2, 3]    0.500000\n",
       "failures_(1, 2]    0.375000\n",
       "Fjob_teacher       0.305556\n",
       "Name: diff mean|f=1, dtype: float64"
      ]
     },
     "execution_count": 20,
     "metadata": {},
     "output_type": "execute_result"
    }
   ],
   "source": [
    "print('most extreme mean|f=1')\n",
    "df_tmp['diff mean|f=1'].nlargest(4)"
   ]
  }
 ],
 "metadata": {
  "kernelspec": {
   "display_name": "Python 3",
   "language": "python",
   "name": "python3"
  },
  "language_info": {
   "codemirror_mode": {
    "name": "ipython",
    "version": 3
   },
   "file_extension": ".py",
   "mimetype": "text/x-python",
   "name": "python",
   "nbconvert_exporter": "python",
   "pygments_lexer": "ipython3",
   "version": "3.4.3"
  }
 },
 "nbformat": 4,
 "nbformat_minor": 1
}
