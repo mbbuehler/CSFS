{
 "cells": [
  {
   "cell_type": "code",
   "execution_count": 32,
   "metadata": {
    "collapsed": true
   },
   "outputs": [],
   "source": [
    "import pandas as pd\n"
   ]
  },
  {
   "cell_type": "code",
   "execution_count": 33,
   "metadata": {
    "collapsed": false
   },
   "outputs": [
    {
     "data": {
      "text/html": [
       "<div>\n",
       "<table border=\"1\" class=\"dataframe\">\n",
       "  <thead>\n",
       "    <tr style=\"text-align: right;\">\n",
       "      <th></th>\n",
       "      <th>mean</th>\n",
       "      <th>mean|f=0</th>\n",
       "      <th>mean|f=1</th>\n",
       "      <th>std</th>\n",
       "      <th>H</th>\n",
       "      <th>IG</th>\n",
       "      <th>IG ratio</th>\n",
       "    </tr>\n",
       "  </thead>\n",
       "  <tbody>\n",
       "    <tr>\n",
       "      <th>higher==yes</th>\n",
       "      <td>0.893683</td>\n",
       "      <td>0.072464</td>\n",
       "      <td>0.591379</td>\n",
       "      <td>0.308243</td>\n",
       "      <td>0.488707</td>\n",
       "      <td>0.084310</td>\n",
       "      <td>0.172516</td>\n",
       "    </tr>\n",
       "    <tr>\n",
       "      <th>school==MS</th>\n",
       "      <td>0.348228</td>\n",
       "      <td>0.633570</td>\n",
       "      <td>0.353982</td>\n",
       "      <td>0.476409</td>\n",
       "      <td>0.932476</td>\n",
       "      <td>0.051915</td>\n",
       "      <td>0.055674</td>\n",
       "    </tr>\n",
       "    <tr>\n",
       "      <th>failures_(-0.003, 1]</th>\n",
       "      <td>0.953775</td>\n",
       "      <td>0.066667</td>\n",
       "      <td>0.558966</td>\n",
       "      <td>0.209972</td>\n",
       "      <td>0.270139</td>\n",
       "      <td>0.035696</td>\n",
       "      <td>0.132138</td>\n",
       "    </tr>\n",
       "  </tbody>\n",
       "</table>\n",
       "</div>"
      ],
      "text/plain": [
       "                          mean  mean|f=0  mean|f=1       std         H  \\\n",
       "higher==yes           0.893683  0.072464  0.591379  0.308243  0.488707   \n",
       "school==MS            0.348228  0.633570  0.353982  0.476409  0.932476   \n",
       "failures_(-0.003, 1]  0.953775  0.066667  0.558966  0.209972  0.270139   \n",
       "\n",
       "                            IG  IG ratio  \n",
       "higher==yes           0.084310  0.172516  \n",
       "school==MS            0.051915  0.055674  \n",
       "failures_(-0.003, 1]  0.035696  0.132138  "
      ]
     },
     "execution_count": 33,
     "metadata": {},
     "output_type": "execute_result"
    }
   ],
   "source": [
    "df = pd.read_csv('student-por_clean_bin_meta.csv', index_col=0)\n",
    "target = 'G3'\n",
    "df = df.drop(target, axis=0)\n",
    "df.head(3)"
   ]
  },
  {
   "cell_type": "code",
   "execution_count": null,
   "metadata": {
    "collapsed": false
   },
   "outputs": [],
   "source": [
    "\n"
   ]
  },
  {
   "cell_type": "code",
   "execution_count": 34,
   "metadata": {
    "collapsed": false
   },
   "outputs": [
    {
     "name": "stdout",
     "output_type": "stream",
     "text": [
      "best features\n",
      "higher==yes             0.084310\n",
      "school==MS              0.051915\n",
      "failures_(-0.003, 1]    0.035696\n",
      "Mjob_at_home            0.034002\n",
      "Medu_(-0.004, 1.333]    0.032736\n",
      "Name: IG, dtype: float64\n"
     ]
    }
   ],
   "source": [
    "print('best features')\n",
    "features_best = df['IG'].nlargest(5)\n",
    "print(features_best)\n",
    "features_best = list(features_best.index)"
   ]
  },
  {
   "cell_type": "code",
   "execution_count": 35,
   "metadata": {
    "collapsed": false
   },
   "outputs": [
    {
     "name": "stdout",
     "output_type": "stream",
     "text": [
      "worst features\n",
      "famsize==LE3             7.542423e-08\n",
      "Pstatus==T               6.791932e-07\n",
      "health_(2.333, 3.667]    1.069421e-05\n",
      "Mjob_other               1.244790e-05\n",
      "paid==yes                1.012689e-04\n",
      "Name: IG, dtype: float64\n"
     ]
    }
   ],
   "source": [
    "print('worst features')\n",
    "features_worst = df['IG'].nsmallest(5)\n",
    "print(features_worst)\n",
    "features_worst = list(features_worst.index)"
   ]
  },
  {
   "cell_type": "code",
   "execution_count": 36,
   "metadata": {
    "collapsed": false
   },
   "outputs": [
    {
     "data": {
      "text/html": [
       "<div>\n",
       "<table border=\"1\" class=\"dataframe\">\n",
       "  <thead>\n",
       "    <tr style=\"text-align: right;\">\n",
       "      <th></th>\n",
       "      <th>mean</th>\n",
       "      <th>mean|f=0</th>\n",
       "      <th>mean|f=1</th>\n",
       "      <th>std</th>\n",
       "      <th>H</th>\n",
       "      <th>IG</th>\n",
       "      <th>IG ratio</th>\n",
       "      <th>diff mean</th>\n",
       "      <th>diff mean|f=0</th>\n",
       "      <th>diff mean|f=1</th>\n",
       "    </tr>\n",
       "  </thead>\n",
       "  <tbody>\n",
       "    <tr>\n",
       "      <th>higher==yes</th>\n",
       "      <td>0.893683</td>\n",
       "      <td>0.072464</td>\n",
       "      <td>0.591379</td>\n",
       "      <td>0.308243</td>\n",
       "      <td>0.488707</td>\n",
       "      <td>0.084310</td>\n",
       "      <td>0.172516</td>\n",
       "      <td>0.393683</td>\n",
       "      <td>0.427536</td>\n",
       "      <td>0.091379</td>\n",
       "    </tr>\n",
       "    <tr>\n",
       "      <th>school==MS</th>\n",
       "      <td>0.348228</td>\n",
       "      <td>0.633570</td>\n",
       "      <td>0.353982</td>\n",
       "      <td>0.476409</td>\n",
       "      <td>0.932476</td>\n",
       "      <td>0.051915</td>\n",
       "      <td>0.055674</td>\n",
       "      <td>0.151772</td>\n",
       "      <td>0.133570</td>\n",
       "      <td>0.146018</td>\n",
       "    </tr>\n",
       "    <tr>\n",
       "      <th>failures_(-0.003, 1]</th>\n",
       "      <td>0.953775</td>\n",
       "      <td>0.066667</td>\n",
       "      <td>0.558966</td>\n",
       "      <td>0.209972</td>\n",
       "      <td>0.270139</td>\n",
       "      <td>0.035696</td>\n",
       "      <td>0.132138</td>\n",
       "      <td>0.453775</td>\n",
       "      <td>0.433333</td>\n",
       "      <td>0.058966</td>\n",
       "    </tr>\n",
       "  </tbody>\n",
       "</table>\n",
       "</div>"
      ],
      "text/plain": [
       "                          mean  mean|f=0  mean|f=1       std         H  \\\n",
       "higher==yes           0.893683  0.072464  0.591379  0.308243  0.488707   \n",
       "school==MS            0.348228  0.633570  0.353982  0.476409  0.932476   \n",
       "failures_(-0.003, 1]  0.953775  0.066667  0.558966  0.209972  0.270139   \n",
       "\n",
       "                            IG  IG ratio  diff mean  diff mean|f=0  \\\n",
       "higher==yes           0.084310  0.172516   0.393683       0.427536   \n",
       "school==MS            0.051915  0.055674   0.151772       0.133570   \n",
       "failures_(-0.003, 1]  0.035696  0.132138   0.453775       0.433333   \n",
       "\n",
       "                      diff mean|f=1  \n",
       "higher==yes                0.091379  \n",
       "school==MS                 0.146018  \n",
       "failures_(-0.003, 1]       0.058966  "
      ]
     },
     "execution_count": 36,
     "metadata": {},
     "output_type": "execute_result"
    }
   ],
   "source": [
    "def diff(x):\n",
    "    x['diff mean'] = abs(x['mean']-0.5)\n",
    "    x['diff mean|f=0'] = abs(x['mean|f=0']-0.5)\n",
    "    x['diff mean|f=1'] = abs(x['mean|f=1']-0.5)\n",
    "    return x\n",
    "df_tmp = df.apply(diff, axis='columns')\n",
    "df_tmp.head(3)"
   ]
  },
  {
   "cell_type": "code",
   "execution_count": 37,
   "metadata": {
    "collapsed": false
   },
   "outputs": [
    {
     "name": "stdout",
     "output_type": "stream",
     "text": [
      "most extreme mean\n"
     ]
    },
    {
     "data": {
      "text/plain": [
       "absences_(21.333, 32]    0.490755\n",
       "age_(19.667, 22]         0.486133\n",
       "failures_(2, 3]          0.478428\n",
       "Name: diff mean, dtype: float64"
      ]
     },
     "execution_count": 37,
     "metadata": {},
     "output_type": "execute_result"
    }
   ],
   "source": [
    "print('most extreme mean')\n",
    "df_tmp['diff mean'].nlargest(3)"
   ]
  },
  {
   "cell_type": "code",
   "execution_count": 38,
   "metadata": {
    "collapsed": false
   },
   "outputs": [
    {
     "name": "stdout",
     "output_type": "stream",
     "text": [
      "most extreme mean|f=0\n"
     ]
    },
    {
     "data": {
      "text/plain": [
       "failures_(-0.003, 1]    0.433333\n",
       "higher==yes             0.427536\n",
       "studytime_(0.997, 2]    0.227273\n",
       "Dalc_(0.996, 2.333]     0.214286\n",
       "Name: diff mean|f=0, dtype: float64"
      ]
     },
     "execution_count": 38,
     "metadata": {},
     "output_type": "execute_result"
    }
   ],
   "source": [
    "print('most extreme mean|f=0')\n",
    "df_tmp['diff mean|f=0'].nlargest(4)"
   ]
  },
  {
   "cell_type": "code",
   "execution_count": 39,
   "metadata": {
    "collapsed": false
   },
   "outputs": [
    {
     "name": "stdout",
     "output_type": "stream",
     "text": [
      "most extreme mean|f=1\n"
     ]
    },
    {
     "data": {
      "text/plain": [
       "failures_(2, 3]     0.500000\n",
       "failures_(1, 2]     0.375000\n",
       "Fjob_teacher        0.305556\n",
       "studytime_(2, 3]    0.252577\n",
       "Name: diff mean|f=1, dtype: float64"
      ]
     },
     "execution_count": 39,
     "metadata": {},
     "output_type": "execute_result"
    }
   ],
   "source": [
    "print('most extreme mean|f=1')\n",
    "df_tmp['diff mean|f=1'].nlargest(4)"
   ]
  },
  {
   "cell_type": "code",
   "execution_count": 52,
   "metadata": {
    "collapsed": false
   },
   "outputs": [
    {
     "name": "stdout",
     "output_type": "stream",
     "text": [
      "16\n",
      "['Mjob_other', 'higher==yes', 'absences_(21.333, 32]', 'failures_(-0.003, 1]', 'paid==yes', 'Fjob_teacher', 'Medu_(-0.004, 1.333]', 'health_(2.333, 3.667]', 'failures_(2, 3]', 'famsize==LE3', 'age_(19.667, 22]', 'studytime_(0.997, 2]', 'Pstatus==T', 'school==MS', 'failures_(1, 2]', 'Mjob_at_home']\n"
     ]
    }
   ],
   "source": [
    "cols_extreme_means = ['diff mean', 'diff mean|f=0', 'diff mean|f=1']\n",
    "features_selected = features_best+features_worst\n",
    "\n",
    "for f in df_tmp[cols_extreme_means]:\n",
    "    features_candidates = list(df_tmp[f].nlargest(3).index)\n",
    "    features_selected += features_candidates\n",
    "\n",
    "features_selected = list(set(features_selected))\n",
    "print(len(features_selected))\n",
    "print(features_selected)"
   ]
  }
 ],
 "metadata": {
  "kernelspec": {
   "display_name": "Python 3",
   "language": "python",
   "name": "python3"
  },
  "language_info": {
   "codemirror_mode": {
    "name": "ipython",
    "version": 3
   },
   "file_extension": ".py",
   "mimetype": "text/x-python",
   "name": "python",
   "nbconvert_exporter": "python",
   "pygments_lexer": "ipython3",
   "version": "3.4.3"
  }
 },
 "nbformat": 4,
 "nbformat_minor": 1
}
