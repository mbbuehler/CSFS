{
 "cells": [
  {
   "cell_type": "code",
   "execution_count": 3,
   "metadata": {
    "collapsed": false
   },
   "outputs": [],
   "source": [
    "import pandas as pd\n",
    "import cufflinks\n",
    "import numpy as np"
   ]
  },
  {
   "cell_type": "code",
   "execution_count": 4,
   "metadata": {
    "collapsed": false
   },
   "outputs": [],
   "source": [
    "df = pd.read_json('../comparison/humans_vs_actual_auc.json').sort_index()\n",
    "for c in df:\n",
    "    df[c] = df[c].apply(np.mean)\n"
   ]
  },
  {
   "cell_type": "code",
   "execution_count": 6,
   "metadata": {
    "collapsed": false
   },
   "outputs": [
    {
     "data": {
      "text/html": [
       "<div id=\"0a0b2cc6-7746-4d29-bd78-e4f3be9f6b08\" style=\"height: 525px; width: 100%;\" class=\"plotly-graph-div\"></div><script type=\"text/javascript\">require([\"plotly\"], function(Plotly) { window.PLOTLYENV=window.PLOTLYENV || {};window.PLOTLYENV.BASE_URL=\"https://plot.ly\";Plotly.newPlot(\"0a0b2cc6-7746-4d29-bd78-e4f3be9f6b08\", [{\"type\": \"bar\", \"x\": [1, 2, 3, 4, 5, 6, 7, 8, 9, 10, 11, 12, 13], \"marker\": {\"line\": {\"width\": 1, \"color\": \"rgba(226, 74, 51, 1.0)\"}, \"color\": \"rgba(226, 74, 51, 0.6)\"}, \"name\": \"best\", \"orientation\": \"v\", \"y\": [0.7707818191, 0.8175153877, 0.8389936978, 0.8427999642, 0.8484705117, 0.8560573705000001, 0.8566785536, 0.8561405987, 0.8556146905, 0.8549118434, 0.8536611246, 0.8495887343, 0.8449362261000001], \"text\": \"\"}, {\"type\": \"bar\", \"x\": [1, 2, 3, 4, 5, 6, 7, 8, 9, 10, 11, 12, 13], \"marker\": {\"line\": {\"width\": 1, \"color\": \"rgba(62, 111, 176, 1.0)\"}, \"color\": \"rgba(62, 111, 176, 0.6)\"}, \"name\": \"domain\", \"orientation\": \"v\", \"y\": [0.70587446988, 0.7263293246800001, 0.7544663330199999, 0.77333305545, 0.7818206088599999, 0.79415766831, 0.8100877240300001, 0.82539791619, 0.83023181092, 0.8374581895700001, 0.84138453281, 0.8449362261000001, 0.8449362261000001], \"text\": \"\"}, {\"type\": \"bar\", \"x\": [1, 2, 3, 4, 5, 6, 7, 8, 9, 10, 11, 12, 13], \"marker\": {\"line\": {\"width\": 1, \"color\": \"rgba(132, 118, 202, 1.0)\"}, \"color\": \"rgba(132, 118, 202, 0.6)\"}, \"name\": \"experts\", \"orientation\": \"v\", \"y\": [0.6822404177749999, 0.7250671233200001, 0.75940407995, 0.7799550223500001, 0.792235000965, 0.80967401494, 0.8202531845350001, 0.8278552230799999, 0.8339991279350002, 0.8401318189900001, 0.8437302711600001, 0.8449362261000001, 0.8449362261000001], \"text\": \"\"}, {\"type\": \"bar\", \"x\": [1, 2, 3, 4, 5, 6, 7, 8, 9, 10, 11, 12, 13], \"marker\": {\"line\": {\"width\": 1, \"color\": \"rgba(101, 101, 101, 1.0)\"}, \"color\": \"rgba(101, 101, 101, 0.6)\"}, \"name\": \"worst\", \"orientation\": \"v\", \"y\": [0.5106520749, 0.5388998540000001, 0.5572569578000001, 0.5768490565000001, 0.6181266040000001, 0.6963458305, 0.7419397789000001, 0.7732162848, 0.7956807206000001, 0.8174242061, 0.8265493386, 0.8362134076000001, 0.8449362261000001], \"text\": \"\"}], {\"paper_bgcolor\": \"#FFFFFF\", \"legend\": {\"bgcolor\": \"#FFFFFF\", \"font\": {\"color\": \"#666666\"}}, \"titlefont\": {\"color\": \"#151516\"}, \"plot_bgcolor\": \"#E5E5E5\", \"title\": \"Humans vs. Actual Data\", \"yaxis1\": {\"zerolinecolor\": \"#F6F6F6\", \"titlefont\": {\"color\": \"#666666\"}, \"tickfont\": {\"color\": \"#666666\"}, \"title\": \"AUC\", \"showgrid\": true, \"gridcolor\": \"#F6F6F6\"}, \"xaxis1\": {\"zerolinecolor\": \"#F6F6F6\", \"titlefont\": {\"color\": \"#666666\"}, \"tickfont\": {\"color\": \"#666666\"}, \"title\": \"#Features\", \"showgrid\": true, \"gridcolor\": \"#F6F6F6\"}}, {\"showLink\": true, \"linkText\": \"Export to plot.ly\"})});</script>"
      ],
      "text/plain": [
       "<IPython.core.display.HTML object>"
      ]
     },
     "metadata": {},
     "output_type": "display_data"
    }
   ],
   "source": [
    "df.iplot(title='Humans vs. Actual Data', xTitle='#Features', yTitle='AUC', kind='bar')"
   ]
  },
  {
   "cell_type": "code",
   "execution_count": null,
   "metadata": {
    "collapsed": true
   },
   "outputs": [],
   "source": []
  }
 ],
 "metadata": {
  "kernelspec": {
   "display_name": "Python 3",
   "language": "python",
   "name": "python3"
  },
  "language_info": {
   "codemirror_mode": {
    "name": "ipython",
    "version": 3
   },
   "file_extension": ".py",
   "mimetype": "text/x-python",
   "name": "python",
   "nbconvert_exporter": "python",
   "pygments_lexer": "ipython3",
   "version": "3.4.3"
  }
 },
 "nbformat": 4,
 "nbformat_minor": 1
}
