{
 "cells": [
  {
   "cell_type": "code",
   "execution_count": null,
   "metadata": {
    "collapsed": false
   },
   "outputs": [],
   "source": [
    "import pandas as pd\n",
    "import numpy as np\n",
    "import cufflinks\n",
    "from tabulate import tabulate\n",
    "from collections import Counter"
   ]
  },
  {
   "cell_type": "code",
   "execution_count": null,
   "metadata": {
    "collapsed": false
   },
   "outputs": [
    {
     "data": {
      "text/html": [
       "<div>\n",
       "<table border=\"1\" class=\"dataframe\">\n",
       "  <thead>\n",
       "    <tr style=\"text-align: right;\">\n",
       "      <th></th>\n",
       "      <th>Rank</th>\n",
       "      <th>yearID_(1871.857, 1919.667]</th>\n",
       "      <th>yearID_(1919.667, 1967.333]</th>\n",
       "      <th>yearID_(1967.333, 2015]</th>\n",
       "      <th>lgID_AA</th>\n",
       "      <th>lgID_AL</th>\n",
       "      <th>lgID_FL</th>\n",
       "      <th>lgID_NL</th>\n",
       "      <th>divID_C</th>\n",
       "      <th>divID_E</th>\n",
       "      <th>...</th>\n",
       "      <th>FP_(0.921, 0.991]</th>\n",
       "      <th>attendance_(1795.433, 1436943.667]</th>\n",
       "      <th>attendance_(1436943.667, 2867799.333]</th>\n",
       "      <th>attendance_(2867799.333, 4298655]</th>\n",
       "      <th>BPF_(83.955, 99]</th>\n",
       "      <th>BPF_(99, 114]</th>\n",
       "      <th>BPF_(114, 129]</th>\n",
       "      <th>PPF_(85.957, 100.333]</th>\n",
       "      <th>PPF_(100.333, 114.667]</th>\n",
       "      <th>PPF_(114.667, 129]</th>\n",
       "    </tr>\n",
       "  </thead>\n",
       "  <tbody>\n",
       "    <tr>\n",
       "      <th>0</th>\n",
       "      <td>0</td>\n",
       "      <td>1.0</td>\n",
       "      <td>0.0</td>\n",
       "      <td>0.0</td>\n",
       "      <td>0.0</td>\n",
       "      <td>0.0</td>\n",
       "      <td>0.0</td>\n",
       "      <td>1.0</td>\n",
       "      <td>0.0</td>\n",
       "      <td>0.0</td>\n",
       "      <td>...</td>\n",
       "      <td>0.0</td>\n",
       "      <td>1.0</td>\n",
       "      <td>0.0</td>\n",
       "      <td>0.0</td>\n",
       "      <td>0.0</td>\n",
       "      <td>1.0</td>\n",
       "      <td>0.0</td>\n",
       "      <td>1.0</td>\n",
       "      <td>0.0</td>\n",
       "      <td>0.0</td>\n",
       "    </tr>\n",
       "    <tr>\n",
       "      <th>1</th>\n",
       "      <td>0</td>\n",
       "      <td>1.0</td>\n",
       "      <td>0.0</td>\n",
       "      <td>0.0</td>\n",
       "      <td>0.0</td>\n",
       "      <td>0.0</td>\n",
       "      <td>0.0</td>\n",
       "      <td>1.0</td>\n",
       "      <td>0.0</td>\n",
       "      <td>0.0</td>\n",
       "      <td>...</td>\n",
       "      <td>0.0</td>\n",
       "      <td>1.0</td>\n",
       "      <td>0.0</td>\n",
       "      <td>0.0</td>\n",
       "      <td>1.0</td>\n",
       "      <td>0.0</td>\n",
       "      <td>0.0</td>\n",
       "      <td>1.0</td>\n",
       "      <td>0.0</td>\n",
       "      <td>0.0</td>\n",
       "    </tr>\n",
       "    <tr>\n",
       "      <th>2</th>\n",
       "      <td>0</td>\n",
       "      <td>1.0</td>\n",
       "      <td>0.0</td>\n",
       "      <td>0.0</td>\n",
       "      <td>0.0</td>\n",
       "      <td>0.0</td>\n",
       "      <td>0.0</td>\n",
       "      <td>1.0</td>\n",
       "      <td>0.0</td>\n",
       "      <td>0.0</td>\n",
       "      <td>...</td>\n",
       "      <td>0.0</td>\n",
       "      <td>1.0</td>\n",
       "      <td>0.0</td>\n",
       "      <td>0.0</td>\n",
       "      <td>1.0</td>\n",
       "      <td>0.0</td>\n",
       "      <td>0.0</td>\n",
       "      <td>1.0</td>\n",
       "      <td>0.0</td>\n",
       "      <td>0.0</td>\n",
       "    </tr>\n",
       "  </tbody>\n",
       "</table>\n",
       "<p>3 rows × 109 columns</p>\n",
       "</div>"
      ],
      "text/plain": [
       "   Rank  yearID_(1871.857, 1919.667]  yearID_(1919.667, 1967.333]  \\\n",
       "0     0                          1.0                          0.0   \n",
       "1     0                          1.0                          0.0   \n",
       "2     0                          1.0                          0.0   \n",
       "\n",
       "   yearID_(1967.333, 2015]  lgID_AA  lgID_AL  lgID_FL  lgID_NL  divID_C  \\\n",
       "0                      0.0      0.0      0.0      0.0      1.0      0.0   \n",
       "1                      0.0      0.0      0.0      0.0      1.0      0.0   \n",
       "2                      0.0      0.0      0.0      0.0      1.0      0.0   \n",
       "\n",
       "   divID_E         ...          FP_(0.921, 0.991]  \\\n",
       "0      0.0         ...                        0.0   \n",
       "1      0.0         ...                        0.0   \n",
       "2      0.0         ...                        0.0   \n",
       "\n",
       "   attendance_(1795.433, 1436943.667]  attendance_(1436943.667, 2867799.333]  \\\n",
       "0                                 1.0                                    0.0   \n",
       "1                                 1.0                                    0.0   \n",
       "2                                 1.0                                    0.0   \n",
       "\n",
       "   attendance_(2867799.333, 4298655]  BPF_(83.955, 99]  BPF_(99, 114]  \\\n",
       "0                                0.0               0.0            1.0   \n",
       "1                                0.0               1.0            0.0   \n",
       "2                                0.0               1.0            0.0   \n",
       "\n",
       "   BPF_(114, 129]  PPF_(85.957, 100.333]  PPF_(100.333, 114.667]  \\\n",
       "0             0.0                    1.0                     0.0   \n",
       "1             0.0                    1.0                     0.0   \n",
       "2             0.0                    1.0                     0.0   \n",
       "\n",
       "   PPF_(114.667, 129]  \n",
       "0                 0.0  \n",
       "1                 0.0  \n",
       "2                 0.0  \n",
       "\n",
       "[3 rows x 109 columns]"
      ]
     },
     "execution_count": 5,
     "metadata": {},
     "output_type": "execute_result"
    }
   ],
   "source": [
    "df = pd.read_csv('baseball_plus_bin.csv')\n",
    "df[:3]"
   ]
  },
  {
   "cell_type": "code",
   "execution_count": null,
   "metadata": {
    "collapsed": false
   },
   "outputs": [],
   "source": [
    "print(len(df.columns))\n",
    "df.describe()"
   ]
  },
  {
   "cell_type": "code",
   "execution_count": null,
   "metadata": {
    "collapsed": false
   },
   "outputs": [],
   "source": []
  },
  {
   "cell_type": "code",
   "execution_count": null,
   "metadata": {
    "collapsed": false,
    "scrolled": true
   },
   "outputs": [],
   "source": []
  },
  {
   "cell_type": "markdown",
   "metadata": {
    "collapsed": true
   },
   "source": []
  },
  {
   "cell_type": "markdown",
   "metadata": {
    "collapsed": true
   },
   "source": []
  },
  {
   "cell_type": "code",
   "execution_count": null,
   "metadata": {
    "collapsed": false
   },
   "outputs": [],
   "source": []
  },
  {
   "cell_type": "code",
   "execution_count": null,
   "metadata": {
    "collapsed": false
   },
   "outputs": [],
   "source": []
  },
  {
   "cell_type": "code",
   "execution_count": null,
   "metadata": {
    "collapsed": false
   },
   "outputs": [],
   "source": []
  },
  {
   "cell_type": "code",
   "execution_count": null,
   "metadata": {
    "collapsed": false
   },
   "outputs": [],
   "source": []
  },
  {
   "cell_type": "code",
   "execution_count": null,
   "metadata": {
    "collapsed": false
   },
   "outputs": [],
   "source": []
  },
  {
   "cell_type": "code",
   "execution_count": null,
   "metadata": {
    "collapsed": true
   },
   "outputs": [],
   "source": []
  },
  {
   "cell_type": "code",
   "execution_count": null,
   "metadata": {
    "collapsed": true
   },
   "outputs": [],
   "source": []
  },
  {
   "cell_type": "code",
   "execution_count": null,
   "metadata": {
    "collapsed": true
   },
   "outputs": [],
   "source": []
  }
 ],
 "metadata": {
  "kernelspec": {
   "display_name": "Python 3",
   "language": "python",
   "name": "python3"
  },
  "language_info": {
   "codemirror_mode": {
    "name": "ipython",
    "version": 3
   },
   "file_extension": ".py",
   "mimetype": "text/x-python",
   "name": "python",
   "nbconvert_exporter": "python",
   "pygments_lexer": "ipython3",
   "version": "3.4.3"
  }
 },
 "nbformat": 4,
 "nbformat_minor": 1
}
