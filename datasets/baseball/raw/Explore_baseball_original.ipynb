{
 "cells": [
  {
   "cell_type": "code",
   "execution_count": 62,
   "metadata": {
    "collapsed": false
   },
   "outputs": [],
   "source": [
    "import pandas as pd\n",
    "import numpy as np\n",
    "import cufflinks\n",
    "from tabulate import tabulate\n",
    "from collections import Counter"
   ]
  },
  {
   "cell_type": "code",
   "execution_count": 22,
   "metadata": {
    "collapsed": false
   },
   "outputs": [
    {
     "data": {
      "text/html": [
       "<div>\n",
       "<table border=\"1\" class=\"dataframe\">\n",
       "  <thead>\n",
       "    <tr style=\"text-align: right;\">\n",
       "      <th></th>\n",
       "      <th>yearID</th>\n",
       "      <th>lgID</th>\n",
       "      <th>teamID</th>\n",
       "      <th>franchID</th>\n",
       "      <th>divID</th>\n",
       "      <th>Rank</th>\n",
       "      <th>G</th>\n",
       "      <th>Ghome</th>\n",
       "      <th>W</th>\n",
       "      <th>L</th>\n",
       "      <th>...</th>\n",
       "      <th>DP</th>\n",
       "      <th>FP</th>\n",
       "      <th>name</th>\n",
       "      <th>park</th>\n",
       "      <th>attendance</th>\n",
       "      <th>BPF</th>\n",
       "      <th>PPF</th>\n",
       "      <th>teamIDBR</th>\n",
       "      <th>teamIDlahman45</th>\n",
       "      <th>teamIDretro</th>\n",
       "    </tr>\n",
       "  </thead>\n",
       "  <tbody>\n",
       "    <tr>\n",
       "      <th>0</th>\n",
       "      <td>1871</td>\n",
       "      <td>NaN</td>\n",
       "      <td>BS1</td>\n",
       "      <td>BNA</td>\n",
       "      <td>NaN</td>\n",
       "      <td>3</td>\n",
       "      <td>31</td>\n",
       "      <td>NaN</td>\n",
       "      <td>20</td>\n",
       "      <td>10</td>\n",
       "      <td>...</td>\n",
       "      <td>NaN</td>\n",
       "      <td>0.83</td>\n",
       "      <td>Boston Red Stockings</td>\n",
       "      <td>South End Grounds I</td>\n",
       "      <td>NaN</td>\n",
       "      <td>103</td>\n",
       "      <td>98</td>\n",
       "      <td>BOS</td>\n",
       "      <td>BS1</td>\n",
       "      <td>BS1</td>\n",
       "    </tr>\n",
       "    <tr>\n",
       "      <th>1</th>\n",
       "      <td>1871</td>\n",
       "      <td>NaN</td>\n",
       "      <td>CH1</td>\n",
       "      <td>CNA</td>\n",
       "      <td>NaN</td>\n",
       "      <td>2</td>\n",
       "      <td>28</td>\n",
       "      <td>NaN</td>\n",
       "      <td>19</td>\n",
       "      <td>9</td>\n",
       "      <td>...</td>\n",
       "      <td>NaN</td>\n",
       "      <td>0.82</td>\n",
       "      <td>Chicago White Stockings</td>\n",
       "      <td>Union Base-Ball Grounds</td>\n",
       "      <td>NaN</td>\n",
       "      <td>104</td>\n",
       "      <td>102</td>\n",
       "      <td>CHI</td>\n",
       "      <td>CH1</td>\n",
       "      <td>CH1</td>\n",
       "    </tr>\n",
       "    <tr>\n",
       "      <th>2</th>\n",
       "      <td>1871</td>\n",
       "      <td>NaN</td>\n",
       "      <td>CL1</td>\n",
       "      <td>CFC</td>\n",
       "      <td>NaN</td>\n",
       "      <td>8</td>\n",
       "      <td>29</td>\n",
       "      <td>NaN</td>\n",
       "      <td>10</td>\n",
       "      <td>19</td>\n",
       "      <td>...</td>\n",
       "      <td>NaN</td>\n",
       "      <td>0.81</td>\n",
       "      <td>Cleveland Forest Citys</td>\n",
       "      <td>National Association Grounds</td>\n",
       "      <td>NaN</td>\n",
       "      <td>96</td>\n",
       "      <td>100</td>\n",
       "      <td>CLE</td>\n",
       "      <td>CL1</td>\n",
       "      <td>CL1</td>\n",
       "    </tr>\n",
       "  </tbody>\n",
       "</table>\n",
       "<p>3 rows × 48 columns</p>\n",
       "</div>"
      ],
      "text/plain": [
       "   yearID lgID teamID franchID divID  Rank   G  Ghome   W   L     ...       \\\n",
       "0    1871  NaN    BS1      BNA   NaN     3  31    NaN  20  10     ...        \n",
       "1    1871  NaN    CH1      CNA   NaN     2  28    NaN  19   9     ...        \n",
       "2    1871  NaN    CL1      CFC   NaN     8  29    NaN  10  19     ...        \n",
       "\n",
       "   DP    FP                     name                          park  \\\n",
       "0 NaN  0.83     Boston Red Stockings           South End Grounds I   \n",
       "1 NaN  0.82  Chicago White Stockings       Union Base-Ball Grounds   \n",
       "2 NaN  0.81   Cleveland Forest Citys  National Association Grounds   \n",
       "\n",
       "   attendance  BPF  PPF  teamIDBR  teamIDlahman45  teamIDretro  \n",
       "0         NaN  103   98       BOS             BS1          BS1  \n",
       "1         NaN  104  102       CHI             CH1          CH1  \n",
       "2         NaN   96  100       CLE             CL1          CL1  \n",
       "\n",
       "[3 rows x 48 columns]"
      ]
     },
     "execution_count": 22,
     "metadata": {},
     "output_type": "execute_result"
    }
   ],
   "source": [
    "df = pd.read_csv('Baseball_original.csv')\n",
    "df[:3]"
   ]
  },
  {
   "cell_type": "code",
   "execution_count": 23,
   "metadata": {
    "collapsed": false
   },
   "outputs": [
    {
     "name": "stdout",
     "output_type": "stream",
     "text": [
      "48\n"
     ]
    },
    {
     "name": "stderr",
     "output_type": "stream",
     "text": [
      "/usr/local/lib/python3.4/dist-packages/numpy/lib/function_base.py:3834: RuntimeWarning:\n",
      "\n",
      "Invalid value encountered in percentile\n",
      "\n"
     ]
    },
    {
     "data": {
      "text/html": [
       "<div>\n",
       "<table border=\"1\" class=\"dataframe\">\n",
       "  <thead>\n",
       "    <tr style=\"text-align: right;\">\n",
       "      <th></th>\n",
       "      <th>yearID</th>\n",
       "      <th>Rank</th>\n",
       "      <th>G</th>\n",
       "      <th>Ghome</th>\n",
       "      <th>W</th>\n",
       "      <th>L</th>\n",
       "      <th>R</th>\n",
       "      <th>AB</th>\n",
       "      <th>H</th>\n",
       "      <th>2B</th>\n",
       "      <th>...</th>\n",
       "      <th>HA</th>\n",
       "      <th>HRA</th>\n",
       "      <th>BBA</th>\n",
       "      <th>SOA</th>\n",
       "      <th>E</th>\n",
       "      <th>DP</th>\n",
       "      <th>FP</th>\n",
       "      <th>attendance</th>\n",
       "      <th>BPF</th>\n",
       "      <th>PPF</th>\n",
       "    </tr>\n",
       "  </thead>\n",
       "  <tbody>\n",
       "    <tr>\n",
       "      <th>count</th>\n",
       "      <td>2805.000000</td>\n",
       "      <td>2805.000000</td>\n",
       "      <td>2805.00000</td>\n",
       "      <td>2406.000000</td>\n",
       "      <td>2805.000000</td>\n",
       "      <td>2805.000000</td>\n",
       "      <td>2805.000000</td>\n",
       "      <td>2805.000000</td>\n",
       "      <td>2805.000000</td>\n",
       "      <td>2805.000000</td>\n",
       "      <td>...</td>\n",
       "      <td>2805.000000</td>\n",
       "      <td>2805.000000</td>\n",
       "      <td>2805.000000</td>\n",
       "      <td>2805.000000</td>\n",
       "      <td>2805.000000</td>\n",
       "      <td>2488.000000</td>\n",
       "      <td>2805.000000</td>\n",
       "      <td>2.526000e+03</td>\n",
       "      <td>2805.000000</td>\n",
       "      <td>2805.000000</td>\n",
       "    </tr>\n",
       "    <tr>\n",
       "      <th>mean</th>\n",
       "      <td>1955.036720</td>\n",
       "      <td>4.107308</td>\n",
       "      <td>150.34795</td>\n",
       "      <td>78.465919</td>\n",
       "      <td>74.749020</td>\n",
       "      <td>74.749020</td>\n",
       "      <td>681.945811</td>\n",
       "      <td>5142.492335</td>\n",
       "      <td>1346.273440</td>\n",
       "      <td>227.624955</td>\n",
       "      <td>...</td>\n",
       "      <td>1346.083779</td>\n",
       "      <td>101.136542</td>\n",
       "      <td>474.010695</td>\n",
       "      <td>731.229234</td>\n",
       "      <td>186.337255</td>\n",
       "      <td>140.186495</td>\n",
       "      <td>0.961519</td>\n",
       "      <td>1.344346e+06</td>\n",
       "      <td>100.199643</td>\n",
       "      <td>100.225668</td>\n",
       "    </tr>\n",
       "    <tr>\n",
       "      <th>std</th>\n",
       "      <td>41.519083</td>\n",
       "      <td>2.323414</td>\n",
       "      <td>23.22725</td>\n",
       "      <td>4.698684</td>\n",
       "      <td>17.640402</td>\n",
       "      <td>17.378079</td>\n",
       "      <td>135.738244</td>\n",
       "      <td>750.551691</td>\n",
       "      <td>219.891603</td>\n",
       "      <td>58.692602</td>\n",
       "      <td>...</td>\n",
       "      <td>219.521064</td>\n",
       "      <td>58.245002</td>\n",
       "      <td>131.890032</td>\n",
       "      <td>296.409881</td>\n",
       "      <td>107.657444</td>\n",
       "      <td>29.322764</td>\n",
       "      <td>0.030224</td>\n",
       "      <td>9.469316e+05</td>\n",
       "      <td>4.882215</td>\n",
       "      <td>4.814985</td>\n",
       "    </tr>\n",
       "    <tr>\n",
       "      <th>min</th>\n",
       "      <td>1871.000000</td>\n",
       "      <td>1.000000</td>\n",
       "      <td>6.00000</td>\n",
       "      <td>44.000000</td>\n",
       "      <td>0.000000</td>\n",
       "      <td>4.000000</td>\n",
       "      <td>24.000000</td>\n",
       "      <td>211.000000</td>\n",
       "      <td>33.000000</td>\n",
       "      <td>3.000000</td>\n",
       "      <td>...</td>\n",
       "      <td>49.000000</td>\n",
       "      <td>0.000000</td>\n",
       "      <td>0.000000</td>\n",
       "      <td>0.000000</td>\n",
       "      <td>47.000000</td>\n",
       "      <td>18.000000</td>\n",
       "      <td>0.760000</td>\n",
       "      <td>6.088000e+03</td>\n",
       "      <td>60.000000</td>\n",
       "      <td>60.000000</td>\n",
       "    </tr>\n",
       "    <tr>\n",
       "      <th>25%</th>\n",
       "      <td>1919.000000</td>\n",
       "      <td>2.000000</td>\n",
       "      <td>153.00000</td>\n",
       "      <td>NaN</td>\n",
       "      <td>66.000000</td>\n",
       "      <td>65.000000</td>\n",
       "      <td>613.000000</td>\n",
       "      <td>5127.000000</td>\n",
       "      <td>1299.000000</td>\n",
       "      <td>193.000000</td>\n",
       "      <td>...</td>\n",
       "      <td>1288.000000</td>\n",
       "      <td>46.000000</td>\n",
       "      <td>427.000000</td>\n",
       "      <td>501.000000</td>\n",
       "      <td>116.000000</td>\n",
       "      <td>NaN</td>\n",
       "      <td>0.960000</td>\n",
       "      <td>NaN</td>\n",
       "      <td>97.000000</td>\n",
       "      <td>97.000000</td>\n",
       "    </tr>\n",
       "    <tr>\n",
       "      <th>50%</th>\n",
       "      <td>1963.000000</td>\n",
       "      <td>4.000000</td>\n",
       "      <td>157.00000</td>\n",
       "      <td>NaN</td>\n",
       "      <td>77.000000</td>\n",
       "      <td>76.000000</td>\n",
       "      <td>690.000000</td>\n",
       "      <td>5389.000000</td>\n",
       "      <td>1393.000000</td>\n",
       "      <td>231.000000</td>\n",
       "      <td>...</td>\n",
       "      <td>1392.000000</td>\n",
       "      <td>109.000000</td>\n",
       "      <td>494.000000</td>\n",
       "      <td>735.000000</td>\n",
       "      <td>145.000000</td>\n",
       "      <td>NaN</td>\n",
       "      <td>0.970000</td>\n",
       "      <td>NaN</td>\n",
       "      <td>100.000000</td>\n",
       "      <td>100.000000</td>\n",
       "    </tr>\n",
       "    <tr>\n",
       "      <th>75%</th>\n",
       "      <td>1992.000000</td>\n",
       "      <td>6.000000</td>\n",
       "      <td>162.00000</td>\n",
       "      <td>NaN</td>\n",
       "      <td>87.000000</td>\n",
       "      <td>87.000000</td>\n",
       "      <td>763.000000</td>\n",
       "      <td>5517.000000</td>\n",
       "      <td>1467.000000</td>\n",
       "      <td>270.000000</td>\n",
       "      <td>...</td>\n",
       "      <td>1470.000000</td>\n",
       "      <td>148.000000</td>\n",
       "      <td>555.000000</td>\n",
       "      <td>965.000000</td>\n",
       "      <td>217.000000</td>\n",
       "      <td>NaN</td>\n",
       "      <td>0.980000</td>\n",
       "      <td>NaN</td>\n",
       "      <td>103.000000</td>\n",
       "      <td>103.000000</td>\n",
       "    </tr>\n",
       "    <tr>\n",
       "      <th>max</th>\n",
       "      <td>2015.000000</td>\n",
       "      <td>13.000000</td>\n",
       "      <td>165.00000</td>\n",
       "      <td>84.000000</td>\n",
       "      <td>116.000000</td>\n",
       "      <td>134.000000</td>\n",
       "      <td>1220.000000</td>\n",
       "      <td>5781.000000</td>\n",
       "      <td>1783.000000</td>\n",
       "      <td>376.000000</td>\n",
       "      <td>...</td>\n",
       "      <td>1993.000000</td>\n",
       "      <td>241.000000</td>\n",
       "      <td>827.000000</td>\n",
       "      <td>1450.000000</td>\n",
       "      <td>639.000000</td>\n",
       "      <td>217.000000</td>\n",
       "      <td>0.991000</td>\n",
       "      <td>4.483350e+06</td>\n",
       "      <td>129.000000</td>\n",
       "      <td>141.000000</td>\n",
       "    </tr>\n",
       "  </tbody>\n",
       "</table>\n",
       "<p>8 rows × 35 columns</p>\n",
       "</div>"
      ],
      "text/plain": [
       "            yearID         Rank           G        Ghome            W  \\\n",
       "count  2805.000000  2805.000000  2805.00000  2406.000000  2805.000000   \n",
       "mean   1955.036720     4.107308   150.34795    78.465919    74.749020   \n",
       "std      41.519083     2.323414    23.22725     4.698684    17.640402   \n",
       "min    1871.000000     1.000000     6.00000    44.000000     0.000000   \n",
       "25%    1919.000000     2.000000   153.00000          NaN    66.000000   \n",
       "50%    1963.000000     4.000000   157.00000          NaN    77.000000   \n",
       "75%    1992.000000     6.000000   162.00000          NaN    87.000000   \n",
       "max    2015.000000    13.000000   165.00000    84.000000   116.000000   \n",
       "\n",
       "                 L            R           AB            H           2B  \\\n",
       "count  2805.000000  2805.000000  2805.000000  2805.000000  2805.000000   \n",
       "mean     74.749020   681.945811  5142.492335  1346.273440   227.624955   \n",
       "std      17.378079   135.738244   750.551691   219.891603    58.692602   \n",
       "min       4.000000    24.000000   211.000000    33.000000     3.000000   \n",
       "25%      65.000000   613.000000  5127.000000  1299.000000   193.000000   \n",
       "50%      76.000000   690.000000  5389.000000  1393.000000   231.000000   \n",
       "75%      87.000000   763.000000  5517.000000  1467.000000   270.000000   \n",
       "max     134.000000  1220.000000  5781.000000  1783.000000   376.000000   \n",
       "\n",
       "          ...                HA          HRA          BBA          SOA  \\\n",
       "count     ...       2805.000000  2805.000000  2805.000000  2805.000000   \n",
       "mean      ...       1346.083779   101.136542   474.010695   731.229234   \n",
       "std       ...        219.521064    58.245002   131.890032   296.409881   \n",
       "min       ...         49.000000     0.000000     0.000000     0.000000   \n",
       "25%       ...       1288.000000    46.000000   427.000000   501.000000   \n",
       "50%       ...       1392.000000   109.000000   494.000000   735.000000   \n",
       "75%       ...       1470.000000   148.000000   555.000000   965.000000   \n",
       "max       ...       1993.000000   241.000000   827.000000  1450.000000   \n",
       "\n",
       "                 E           DP           FP    attendance          BPF  \\\n",
       "count  2805.000000  2488.000000  2805.000000  2.526000e+03  2805.000000   \n",
       "mean    186.337255   140.186495     0.961519  1.344346e+06   100.199643   \n",
       "std     107.657444    29.322764     0.030224  9.469316e+05     4.882215   \n",
       "min      47.000000    18.000000     0.760000  6.088000e+03    60.000000   \n",
       "25%     116.000000          NaN     0.960000           NaN    97.000000   \n",
       "50%     145.000000          NaN     0.970000           NaN   100.000000   \n",
       "75%     217.000000          NaN     0.980000           NaN   103.000000   \n",
       "max     639.000000   217.000000     0.991000  4.483350e+06   129.000000   \n",
       "\n",
       "               PPF  \n",
       "count  2805.000000  \n",
       "mean    100.225668  \n",
       "std       4.814985  \n",
       "min      60.000000  \n",
       "25%      97.000000  \n",
       "50%     100.000000  \n",
       "75%     103.000000  \n",
       "max     141.000000  \n",
       "\n",
       "[8 rows x 35 columns]"
      ]
     },
     "execution_count": 23,
     "metadata": {},
     "output_type": "execute_result"
    }
   ],
   "source": [
    "print(len(df.columns))\n",
    "df.describe()"
   ]
  },
  {
   "cell_type": "code",
   "execution_count": 24,
   "metadata": {
    "collapsed": false
   },
   "outputs": [
    {
     "name": "stdout",
     "output_type": "stream",
     "text": [
      "dropped columns: \n",
      "['Ghome', 'DivWin', 'WCWin', 'LgWin', 'WSWin', 'SO', 'SB', 'CS', 'HBP', 'SF', 'DP', 'park', 'attendance']\n",
      "33\n"
     ]
    }
   ],
   "source": [
    "df_clean = df.dropna(axis='columns')\n",
    "print('dropped columns: ')\n",
    "print([f for f in df if f not in df_clean.columns and \"id\" not in f.lower()])\n",
    "print(len(df_clean.columns))"
   ]
  },
  {
   "cell_type": "code",
   "execution_count": 25,
   "metadata": {
    "collapsed": false,
    "scrolled": true
   },
   "outputs": [
    {
     "data": {
      "text/html": [
       "<div id=\"43bae69b-cc1a-4579-a28a-e596bfe395f2\" style=\"height: 525px; width: 100%;\" class=\"plotly-graph-div\"></div><script type=\"text/javascript\">require([\"plotly\"], function(Plotly) { window.PLOTLYENV=window.PLOTLYENV || {};window.PLOTLYENV.BASE_URL=\"https://plot.ly\";Plotly.newPlot(\"43bae69b-cc1a-4579-a28a-e596bfe395f2\", [{\"x\": [\"yearID\", \"lgID\", \"teamID\", \"franchID\", \"divID\", \"Rank\", \"G\", \"Ghome\", \"W\", \"L\", \"DivWin\", \"WCWin\", \"LgWin\", \"WSWin\", \"R\", \"AB\", \"H\", \"2B\", \"3B\", \"HR\", \"BB\", \"SO\", \"SB\", \"CS\", \"HBP\", \"SF\", \"RA\", \"ER\", \"ERA\", \"CG\", \"SHO\", \"SV\", \"IPouts\", \"HA\", \"HRA\", \"BBA\", \"SOA\", \"E\", \"DP\", \"FP\", \"name\", \"park\", \"attendance\", \"BPF\", \"PPF\", \"teamIDBR\", \"teamIDlahman45\", \"teamIDretro\"], \"type\": \"bar\", \"name\": \"None\", \"text\": \"\", \"orientation\": \"v\", \"marker\": {\"line\": {\"color\": \"rgba(226, 74, 51, 1.0)\", \"width\": 1}, \"color\": \"rgba(226, 74, 51, 0.6)\"}, \"y\": [0, 50, 0, 0, 1517, 0, 0, 399, 0, 0, 1545, 2181, 28, 357, 0, 0, 0, 0, 0, 0, 0, 120, 144, 859, 2325, 2325, 0, 0, 0, 0, 0, 0, 0, 0, 0, 0, 0, 0, 317, 0, 0, 34, 279, 0, 0, 0, 0, 0]}], {\"plot_bgcolor\": \"#E5E5E5\", \"legend\": {\"bgcolor\": \"#FFFFFF\", \"font\": {\"color\": \"#666666\"}}, \"yaxis1\": {\"gridcolor\": \"#F6F6F6\", \"tickfont\": {\"color\": \"#666666\"}, \"zerolinecolor\": \"#F6F6F6\", \"title\": \"\", \"showgrid\": true, \"titlefont\": {\"color\": \"#666666\"}}, \"xaxis1\": {\"gridcolor\": \"#F6F6F6\", \"tickfont\": {\"color\": \"#666666\"}, \"zerolinecolor\": \"#F6F6F6\", \"title\": \"\", \"showgrid\": true, \"titlefont\": {\"color\": \"#666666\"}}, \"titlefont\": {\"color\": \"#151516\"}, \"paper_bgcolor\": \"#FFFFFF\"}, {\"linkText\": \"Export to plot.ly\", \"showLink\": true})});</script>"
      ],
      "text/plain": [
       "<IPython.core.display.HTML object>"
      ]
     },
     "metadata": {},
     "output_type": "display_data"
    }
   ],
   "source": [
    "df.isnull().sum().iplot(kind='bar')"
   ]
  },
  {
   "cell_type": "markdown",
   "metadata": {
    "collapsed": true
   },
   "source": [
    "lgID    League: use most common\n",
    "\n",
    "divID   Team's division: use own encoding\n",
    "\n",
    "GHome   Games played at home: use int mean\n",
    "\n",
    "DivWin  Division Winner (Y or N): remove\n",
    "\n",
    "WCWin   Wild Card Winner (Y or N): remove\n",
    "\n",
    "LgWin   League Champion(Y or N): use most common ('N')\n",
    "\n",
    "WSWin   World Series Winner (Y or N): use most common ('N')\n",
    "\n",
    "SO  Strikeouts by batters: mean\n",
    "\n",
    "SB  Stolen bases: mean\n",
    "\n",
    "CS  Caught stealing: median\n",
    "\n",
    "HBP Batters hit by pitch\n",
    "\n",
    "SF  Sacrifice flies\n",
    "\n",
    "DP  Double Plays: mean of 50 above and below (earlier years have lower DP)\n",
    "\n",
    "park Placename: remove\n",
    "\n",
    "attendance  Home attendance total: use mean. should be lower for earlier years, but hard to model. maybe mean of years till 1920?\n"
   ]
  },
  {
   "cell_type": "markdown",
   "metadata": {
    "collapsed": true
   },
   "source": [
    "Remove features with many missing values and impute missing values for rest"
   ]
  },
  {
   "cell_type": "code",
   "execution_count": 32,
   "metadata": {
    "collapsed": false
   },
   "outputs": [
    {
     "data": {
      "text/html": [
       "<div id=\"3844872a-dda2-47dd-ac16-32e719d48b76\" style=\"height: 525px; width: 100%;\" class=\"plotly-graph-div\"></div><script type=\"text/javascript\">require([\"plotly\"], function(Plotly) { window.PLOTLYENV=window.PLOTLYENV || {};window.PLOTLYENV.BASE_URL=\"https://plot.ly\";Plotly.newPlot(\"3844872a-dda2-47dd-ac16-32e719d48b76\", [{\"x\": [\"yearID\", \"lgID\", \"teamID\", \"franchID\", \"Rank\", \"G\", \"Ghome\", \"W\", \"L\", \"LgWin\", \"WSWin\", \"R\", \"AB\", \"H\", \"2B\", \"3B\", \"HR\", \"BB\", \"SO\", \"SB\", \"CS\", \"RA\", \"ER\", \"ERA\", \"CG\", \"SHO\", \"SV\", \"IPouts\", \"HA\", \"HRA\", \"BBA\", \"SOA\", \"E\", \"DP\", \"FP\", \"name\", \"park\", \"attendance\", \"BPF\", \"PPF\", \"teamIDBR\", \"teamIDlahman45\", \"teamIDretro\"], \"type\": \"bar\", \"name\": \"None\", \"text\": \"\", \"orientation\": \"v\", \"marker\": {\"line\": {\"color\": \"rgba(226, 74, 51, 1.0)\", \"width\": 1}, \"color\": \"rgba(226, 74, 51, 0.6)\"}, \"y\": [0, 50, 0, 0, 0, 0, 399, 0, 0, 28, 357, 0, 0, 0, 0, 0, 0, 0, 120, 144, 859, 0, 0, 0, 0, 0, 0, 0, 0, 0, 0, 0, 0, 317, 0, 0, 34, 279, 0, 0, 0, 0, 0]}], {\"plot_bgcolor\": \"#E5E5E5\", \"legend\": {\"bgcolor\": \"#FFFFFF\", \"font\": {\"color\": \"#666666\"}}, \"yaxis1\": {\"gridcolor\": \"#F6F6F6\", \"tickfont\": {\"color\": \"#666666\"}, \"zerolinecolor\": \"#F6F6F6\", \"title\": \"\", \"showgrid\": true, \"titlefont\": {\"color\": \"#666666\"}}, \"xaxis1\": {\"gridcolor\": \"#F6F6F6\", \"tickfont\": {\"color\": \"#666666\"}, \"zerolinecolor\": \"#F6F6F6\", \"title\": \"\", \"showgrid\": true, \"titlefont\": {\"color\": \"#666666\"}}, \"titlefont\": {\"color\": \"#151516\"}, \"paper_bgcolor\": \"#FFFFFF\"}, {\"linkText\": \"Export to plot.ly\", \"showLink\": true})});</script>"
      ],
      "text/plain": [
       "<IPython.core.display.HTML object>"
      ]
     },
     "metadata": {},
     "output_type": "display_data"
    }
   ],
   "source": [
    "df_clean = df.loc[:,df.isnull().sum()<0.5*len(df)]\n",
    "df_clean.isnull().sum().iplot(kind='bar')"
   ]
  },
  {
   "cell_type": "code",
   "execution_count": 65,
   "metadata": {
    "collapsed": false
   },
   "outputs": [
    {
     "name": "stdout",
     "output_type": "stream",
     "text": [
      "  lgID  Ghome LgWin WSWin    SO    SB  CS  DP                          park  \\\n",
      "0  NaN    NaN     N   NaN  19.0  73.0 NaN NaN           South End Grounds I   \n",
      "1  NaN    NaN     N   NaN  22.0  69.0 NaN NaN       Union Base-Ball Grounds   \n",
      "2  NaN    NaN     N   NaN  25.0  18.0 NaN NaN  National Association Grounds   \n",
      "\n",
      "   attendance  \n",
      "0         NaN  \n",
      "1         NaN  \n",
      "2         NaN  \n",
      "     lgID  Ghome LgWin WSWin      SO     SB    CS     DP         park  \\\n",
      "2802   NL   81.0     N     N  1312.0  132.0  44.0  146.0  Chase Field   \n",
      "2803   NL   81.0     N     N  1327.0   82.0  29.0  138.0   Petco Park   \n",
      "2804   NL   81.0     N     N  1283.0   97.0  43.0  171.0  Coors Field   \n",
      "\n",
      "      attendance  \n",
      "2802   2080145.0  \n",
      "2803   2459742.0  \n",
      "2804   2506789.0  \n",
      "--\n",
      "            Ghome        SO         SB         CS         DP        attendance\n",
      "-----  ----------  --------  ---------  ---------  ---------  ----------------\n",
      "count  2406        2685      2661       1946       2488         2526\n",
      "mean     78.4659    737.949   112.272     48.7662   140.186        1.34435e+06\n",
      "std       4.69868   298.572    70.8111    21.6037    29.3228  946932\n",
      "min      44           0         0          0         18         6088\n",
      "25%     nan         nan       nan        nan        nan          nan\n",
      "50%     nan         nan       nan        nan        nan          nan\n",
      "75%     nan         nan       nan        nan        nan          nan\n",
      "max      84        1535       581        191        217            4.48335e+06\n"
     ]
    },
    {
     "name": "stderr",
     "output_type": "stream",
     "text": [
      "/usr/local/lib/python3.4/dist-packages/numpy/lib/function_base.py:3834: RuntimeWarning:\n",
      "\n",
      "Invalid value encountered in percentile\n",
      "\n"
     ]
    }
   ],
   "source": [
    "cols_to_impute = df_clean.loc[:,df_clean.isnull().sum()>0].columns\n",
    "\n",
    "print(df_clean[cols_to_impute][:3])\n",
    "print(df_clean[cols_to_impute][-3:])\n",
    "print('--')\n",
    "print(tabulate(df_clean[cols_to_impute].describe(), headers='keys'))"
   ]
  },
  {
   "cell_type": "code",
   "execution_count": 54,
   "metadata": {
    "collapsed": false
   },
   "outputs": [
    {
     "name": "stdout",
     "output_type": "stream",
     "text": [
      "median gHome:\n"
     ]
    },
    {
     "name": "stderr",
     "output_type": "stream",
     "text": [
      "/usr/local/lib/python3.4/dist-packages/ipykernel/__main__.py:2: UserWarning:\n",
      "\n",
      "Boolean Series key will be reindexed to match DataFrame index.\n",
      "\n"
     ]
    },
    {
     "data": {
      "text/plain": [
       "81.0"
      ]
     },
     "execution_count": 54,
     "metadata": {},
     "output_type": "execute_result"
    }
   ],
   "source": [
    "print('median gHome:',)\n",
    "np.median(df_clean.dropna()[df_clean['yearID']>1900]['Ghome'])"
   ]
  },
  {
   "cell_type": "code",
   "execution_count": 59,
   "metadata": {
    "collapsed": false
   },
   "outputs": [
    {
     "data": {
      "text/plain": [
       "Counter({'N': 2505, nan: 28, 'Y': 272})"
      ]
     },
     "execution_count": 59,
     "metadata": {},
     "output_type": "execute_result"
    }
   ],
   "source": [
    "set(df_clean['LgWin'])\n",
    "Counter(df_clean['LgWin'])"
   ]
  },
  {
   "cell_type": "code",
   "execution_count": 61,
   "metadata": {
    "collapsed": false
   },
   "outputs": [
    {
     "data": {
      "text/plain": [
       "Counter({nan: 357, 'N': 2332, 'Y': 116})"
      ]
     },
     "execution_count": 61,
     "metadata": {},
     "output_type": "execute_result"
    }
   ],
   "source": [
    "set(df_clean['WSWin'])\n",
    "Counter(df_clean['WSWin'])"
   ]
  },
  {
   "cell_type": "code",
   "execution_count": null,
   "metadata": {
    "collapsed": true
   },
   "outputs": [],
   "source": []
  },
  {
   "cell_type": "code",
   "execution_count": null,
   "metadata": {
    "collapsed": true
   },
   "outputs": [],
   "source": []
  },
  {
   "cell_type": "code",
   "execution_count": null,
   "metadata": {
    "collapsed": true
   },
   "outputs": [],
   "source": []
  }
 ],
 "metadata": {
  "kernelspec": {
   "display_name": "Python 3",
   "language": "python",
   "name": "python3"
  },
  "language_info": {
   "codemirror_mode": {
    "name": "ipython",
    "version": 3
   },
   "file_extension": ".py",
   "mimetype": "text/x-python",
   "name": "python",
   "nbconvert_exporter": "python",
   "pygments_lexer": "ipython3",
   "version": "3.4.3"
  }
 },
 "nbformat": 4,
 "nbformat_minor": 1
}
